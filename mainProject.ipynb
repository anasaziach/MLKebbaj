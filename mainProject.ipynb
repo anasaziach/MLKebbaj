{
 "cells": [
  {
   "cell_type": "code",
   "execution_count": 60,
   "metadata": {
    "tags": []
   },
   "outputs": [],
   "source": [
    "import numpy as np\n",
    "import pandas as pd\n",
    "import seaborn as sns\n",
    "import matplotlib.pyplot as plt"
   ]
  },
  {
   "cell_type": "markdown",
   "metadata": {},
   "source": [
    "# 1 - chargement des données"
   ]
  },
  {
   "cell_type": "code",
   "execution_count": 61,
   "metadata": {
    "tags": []
   },
   "outputs": [],
   "source": [
    "df = pd.read_csv(\"train.csv\")"
   ]
  },
  {
   "cell_type": "code",
   "execution_count": 62,
   "metadata": {
    "tags": []
   },
   "outputs": [
    {
     "data": {
      "text/html": [
       "<div>\n",
       "<style scoped>\n",
       "    .dataframe tbody tr th:only-of-type {\n",
       "        vertical-align: middle;\n",
       "    }\n",
       "\n",
       "    .dataframe tbody tr th {\n",
       "        vertical-align: top;\n",
       "    }\n",
       "\n",
       "    .dataframe thead th {\n",
       "        text-align: right;\n",
       "    }\n",
       "</style>\n",
       "<table border=\"1\" class=\"dataframe\">\n",
       "  <thead>\n",
       "    <tr style=\"text-align: right;\">\n",
       "      <th></th>\n",
       "      <th>id</th>\n",
       "      <th>log_price</th>\n",
       "      <th>property_type</th>\n",
       "      <th>room_type</th>\n",
       "      <th>amenities</th>\n",
       "      <th>accommodates</th>\n",
       "      <th>bathrooms</th>\n",
       "      <th>bed_type</th>\n",
       "      <th>cancellation_policy</th>\n",
       "      <th>cleaning_fee</th>\n",
       "      <th>...</th>\n",
       "      <th>latitude</th>\n",
       "      <th>longitude</th>\n",
       "      <th>name</th>\n",
       "      <th>neighbourhood</th>\n",
       "      <th>number_of_reviews</th>\n",
       "      <th>review_scores_rating</th>\n",
       "      <th>thumbnail_url</th>\n",
       "      <th>zipcode</th>\n",
       "      <th>bedrooms</th>\n",
       "      <th>beds</th>\n",
       "    </tr>\n",
       "  </thead>\n",
       "  <tbody>\n",
       "    <tr>\n",
       "      <th>0</th>\n",
       "      <td>6901257</td>\n",
       "      <td>5.010635</td>\n",
       "      <td>Apartment</td>\n",
       "      <td>Entire home/apt</td>\n",
       "      <td>{\"Wireless Internet\",\"Air conditioning\",Kitche...</td>\n",
       "      <td>3</td>\n",
       "      <td>1.0</td>\n",
       "      <td>Real Bed</td>\n",
       "      <td>strict</td>\n",
       "      <td>True</td>\n",
       "      <td>...</td>\n",
       "      <td>40.696524</td>\n",
       "      <td>-73.991617</td>\n",
       "      <td>Beautiful brownstone 1-bedroom</td>\n",
       "      <td>Brooklyn Heights</td>\n",
       "      <td>2</td>\n",
       "      <td>100.0</td>\n",
       "      <td>https://a0.muscache.com/im/pictures/6d7cbbf7-c...</td>\n",
       "      <td>11201</td>\n",
       "      <td>1.0</td>\n",
       "      <td>1.0</td>\n",
       "    </tr>\n",
       "    <tr>\n",
       "      <th>1</th>\n",
       "      <td>6304928</td>\n",
       "      <td>5.129899</td>\n",
       "      <td>Apartment</td>\n",
       "      <td>Entire home/apt</td>\n",
       "      <td>{\"Wireless Internet\",\"Air conditioning\",Kitche...</td>\n",
       "      <td>7</td>\n",
       "      <td>1.0</td>\n",
       "      <td>Real Bed</td>\n",
       "      <td>strict</td>\n",
       "      <td>True</td>\n",
       "      <td>...</td>\n",
       "      <td>40.766115</td>\n",
       "      <td>-73.989040</td>\n",
       "      <td>Superb 3BR Apt Located Near Times Square</td>\n",
       "      <td>Hell's Kitchen</td>\n",
       "      <td>6</td>\n",
       "      <td>93.0</td>\n",
       "      <td>https://a0.muscache.com/im/pictures/348a55fe-4...</td>\n",
       "      <td>10019</td>\n",
       "      <td>3.0</td>\n",
       "      <td>3.0</td>\n",
       "    </tr>\n",
       "    <tr>\n",
       "      <th>2</th>\n",
       "      <td>7919400</td>\n",
       "      <td>4.976734</td>\n",
       "      <td>Apartment</td>\n",
       "      <td>Entire home/apt</td>\n",
       "      <td>{TV,\"Cable TV\",\"Wireless Internet\",\"Air condit...</td>\n",
       "      <td>5</td>\n",
       "      <td>1.0</td>\n",
       "      <td>Real Bed</td>\n",
       "      <td>moderate</td>\n",
       "      <td>True</td>\n",
       "      <td>...</td>\n",
       "      <td>40.808110</td>\n",
       "      <td>-73.943756</td>\n",
       "      <td>The Garden Oasis</td>\n",
       "      <td>Harlem</td>\n",
       "      <td>10</td>\n",
       "      <td>92.0</td>\n",
       "      <td>https://a0.muscache.com/im/pictures/6fae5362-9...</td>\n",
       "      <td>10027</td>\n",
       "      <td>1.0</td>\n",
       "      <td>3.0</td>\n",
       "    </tr>\n",
       "    <tr>\n",
       "      <th>3</th>\n",
       "      <td>13418779</td>\n",
       "      <td>6.620073</td>\n",
       "      <td>House</td>\n",
       "      <td>Entire home/apt</td>\n",
       "      <td>{TV,\"Cable TV\",Internet,\"Wireless Internet\",Ki...</td>\n",
       "      <td>4</td>\n",
       "      <td>1.0</td>\n",
       "      <td>Real Bed</td>\n",
       "      <td>flexible</td>\n",
       "      <td>True</td>\n",
       "      <td>...</td>\n",
       "      <td>37.772004</td>\n",
       "      <td>-122.431619</td>\n",
       "      <td>Beautiful Flat in the Heart of SF!</td>\n",
       "      <td>Lower Haight</td>\n",
       "      <td>0</td>\n",
       "      <td>NaN</td>\n",
       "      <td>https://a0.muscache.com/im/pictures/72208dad-9...</td>\n",
       "      <td>94117</td>\n",
       "      <td>2.0</td>\n",
       "      <td>2.0</td>\n",
       "    </tr>\n",
       "    <tr>\n",
       "      <th>4</th>\n",
       "      <td>3808709</td>\n",
       "      <td>4.744932</td>\n",
       "      <td>Apartment</td>\n",
       "      <td>Entire home/apt</td>\n",
       "      <td>{TV,Internet,\"Wireless Internet\",\"Air conditio...</td>\n",
       "      <td>2</td>\n",
       "      <td>1.0</td>\n",
       "      <td>Real Bed</td>\n",
       "      <td>moderate</td>\n",
       "      <td>True</td>\n",
       "      <td>...</td>\n",
       "      <td>38.925627</td>\n",
       "      <td>-77.034596</td>\n",
       "      <td>Great studio in midtown DC</td>\n",
       "      <td>Columbia Heights</td>\n",
       "      <td>4</td>\n",
       "      <td>40.0</td>\n",
       "      <td>NaN</td>\n",
       "      <td>20009</td>\n",
       "      <td>0.0</td>\n",
       "      <td>1.0</td>\n",
       "    </tr>\n",
       "  </tbody>\n",
       "</table>\n",
       "<p>5 rows × 29 columns</p>\n",
       "</div>"
      ],
      "text/plain": [
       "         id  log_price property_type        room_type  \\\n",
       "0   6901257   5.010635     Apartment  Entire home/apt   \n",
       "1   6304928   5.129899     Apartment  Entire home/apt   \n",
       "2   7919400   4.976734     Apartment  Entire home/apt   \n",
       "3  13418779   6.620073         House  Entire home/apt   \n",
       "4   3808709   4.744932     Apartment  Entire home/apt   \n",
       "\n",
       "                                           amenities  accommodates  bathrooms  \\\n",
       "0  {\"Wireless Internet\",\"Air conditioning\",Kitche...             3        1.0   \n",
       "1  {\"Wireless Internet\",\"Air conditioning\",Kitche...             7        1.0   \n",
       "2  {TV,\"Cable TV\",\"Wireless Internet\",\"Air condit...             5        1.0   \n",
       "3  {TV,\"Cable TV\",Internet,\"Wireless Internet\",Ki...             4        1.0   \n",
       "4  {TV,Internet,\"Wireless Internet\",\"Air conditio...             2        1.0   \n",
       "\n",
       "   bed_type cancellation_policy  cleaning_fee  ...   latitude   longitude  \\\n",
       "0  Real Bed              strict          True  ...  40.696524  -73.991617   \n",
       "1  Real Bed              strict          True  ...  40.766115  -73.989040   \n",
       "2  Real Bed            moderate          True  ...  40.808110  -73.943756   \n",
       "3  Real Bed            flexible          True  ...  37.772004 -122.431619   \n",
       "4  Real Bed            moderate          True  ...  38.925627  -77.034596   \n",
       "\n",
       "                                       name     neighbourhood  \\\n",
       "0            Beautiful brownstone 1-bedroom  Brooklyn Heights   \n",
       "1  Superb 3BR Apt Located Near Times Square    Hell's Kitchen   \n",
       "2                          The Garden Oasis            Harlem   \n",
       "3        Beautiful Flat in the Heart of SF!      Lower Haight   \n",
       "4                Great studio in midtown DC  Columbia Heights   \n",
       "\n",
       "  number_of_reviews review_scores_rating  \\\n",
       "0                 2                100.0   \n",
       "1                 6                 93.0   \n",
       "2                10                 92.0   \n",
       "3                 0                  NaN   \n",
       "4                 4                 40.0   \n",
       "\n",
       "                                       thumbnail_url zipcode bedrooms  beds  \n",
       "0  https://a0.muscache.com/im/pictures/6d7cbbf7-c...   11201      1.0   1.0  \n",
       "1  https://a0.muscache.com/im/pictures/348a55fe-4...   10019      3.0   3.0  \n",
       "2  https://a0.muscache.com/im/pictures/6fae5362-9...   10027      1.0   3.0  \n",
       "3  https://a0.muscache.com/im/pictures/72208dad-9...   94117      2.0   2.0  \n",
       "4                                                NaN   20009      0.0   1.0  \n",
       "\n",
       "[5 rows x 29 columns]"
      ]
     },
     "execution_count": 62,
     "metadata": {},
     "output_type": "execute_result"
    }
   ],
   "source": [
    "df.head()"
   ]
  },
  {
   "cell_type": "code",
   "execution_count": 63,
   "metadata": {
    "tags": []
   },
   "outputs": [
    {
     "data": {
      "text/plain": [
       "(74111, 29)"
      ]
     },
     "execution_count": 63,
     "metadata": {},
     "output_type": "execute_result"
    }
   ],
   "source": [
    "df.shape"
   ]
  },
  {
   "cell_type": "code",
   "execution_count": 64,
   "metadata": {
    "tags": []
   },
   "outputs": [
    {
     "data": {
      "text/plain": [
       "Index(['id', 'log_price', 'property_type', 'room_type', 'amenities',\n",
       "       'accommodates', 'bathrooms', 'bed_type', 'cancellation_policy',\n",
       "       'cleaning_fee', 'city', 'description', 'first_review',\n",
       "       'host_has_profile_pic', 'host_identity_verified', 'host_response_rate',\n",
       "       'host_since', 'instant_bookable', 'last_review', 'latitude',\n",
       "       'longitude', 'name', 'neighbourhood', 'number_of_reviews',\n",
       "       'review_scores_rating', 'thumbnail_url', 'zipcode', 'bedrooms', 'beds'],\n",
       "      dtype='object')"
      ]
     },
     "execution_count": 64,
     "metadata": {},
     "output_type": "execute_result"
    }
   ],
   "source": [
    "df.columns"
   ]
  },
  {
   "cell_type": "code",
   "execution_count": 65,
   "metadata": {},
   "outputs": [
    {
     "data": {
      "text/html": [
       "<div>\n",
       "<style scoped>\n",
       "    .dataframe tbody tr th:only-of-type {\n",
       "        vertical-align: middle;\n",
       "    }\n",
       "\n",
       "    .dataframe tbody tr th {\n",
       "        vertical-align: top;\n",
       "    }\n",
       "\n",
       "    .dataframe thead th {\n",
       "        text-align: right;\n",
       "    }\n",
       "</style>\n",
       "<table border=\"1\" class=\"dataframe\">\n",
       "  <thead>\n",
       "    <tr style=\"text-align: right;\">\n",
       "      <th></th>\n",
       "      <th>id</th>\n",
       "      <th>log_price</th>\n",
       "      <th>accommodates</th>\n",
       "      <th>bathrooms</th>\n",
       "      <th>latitude</th>\n",
       "      <th>longitude</th>\n",
       "      <th>number_of_reviews</th>\n",
       "      <th>review_scores_rating</th>\n",
       "      <th>bedrooms</th>\n",
       "      <th>beds</th>\n",
       "    </tr>\n",
       "  </thead>\n",
       "  <tbody>\n",
       "    <tr>\n",
       "      <th>count</th>\n",
       "      <td>7.411100e+04</td>\n",
       "      <td>74111.000000</td>\n",
       "      <td>74111.000000</td>\n",
       "      <td>73911.000000</td>\n",
       "      <td>74111.000000</td>\n",
       "      <td>74111.000000</td>\n",
       "      <td>74111.000000</td>\n",
       "      <td>57389.000000</td>\n",
       "      <td>74020.000000</td>\n",
       "      <td>73980.000000</td>\n",
       "    </tr>\n",
       "    <tr>\n",
       "      <th>mean</th>\n",
       "      <td>1.126662e+07</td>\n",
       "      <td>4.782069</td>\n",
       "      <td>3.155146</td>\n",
       "      <td>1.235263</td>\n",
       "      <td>38.445958</td>\n",
       "      <td>-92.397525</td>\n",
       "      <td>20.900568</td>\n",
       "      <td>94.067365</td>\n",
       "      <td>1.265793</td>\n",
       "      <td>1.710868</td>\n",
       "    </tr>\n",
       "    <tr>\n",
       "      <th>std</th>\n",
       "      <td>6.081735e+06</td>\n",
       "      <td>0.717394</td>\n",
       "      <td>2.153589</td>\n",
       "      <td>0.582044</td>\n",
       "      <td>3.080167</td>\n",
       "      <td>21.705322</td>\n",
       "      <td>37.828641</td>\n",
       "      <td>7.836556</td>\n",
       "      <td>0.852143</td>\n",
       "      <td>1.254142</td>\n",
       "    </tr>\n",
       "    <tr>\n",
       "      <th>min</th>\n",
       "      <td>3.440000e+02</td>\n",
       "      <td>0.000000</td>\n",
       "      <td>1.000000</td>\n",
       "      <td>0.000000</td>\n",
       "      <td>33.338905</td>\n",
       "      <td>-122.511500</td>\n",
       "      <td>0.000000</td>\n",
       "      <td>20.000000</td>\n",
       "      <td>0.000000</td>\n",
       "      <td>0.000000</td>\n",
       "    </tr>\n",
       "    <tr>\n",
       "      <th>25%</th>\n",
       "      <td>6.261964e+06</td>\n",
       "      <td>4.317488</td>\n",
       "      <td>2.000000</td>\n",
       "      <td>1.000000</td>\n",
       "      <td>34.127908</td>\n",
       "      <td>-118.342374</td>\n",
       "      <td>1.000000</td>\n",
       "      <td>92.000000</td>\n",
       "      <td>1.000000</td>\n",
       "      <td>1.000000</td>\n",
       "    </tr>\n",
       "    <tr>\n",
       "      <th>50%</th>\n",
       "      <td>1.225415e+07</td>\n",
       "      <td>4.709530</td>\n",
       "      <td>2.000000</td>\n",
       "      <td>1.000000</td>\n",
       "      <td>40.662138</td>\n",
       "      <td>-76.996965</td>\n",
       "      <td>6.000000</td>\n",
       "      <td>96.000000</td>\n",
       "      <td>1.000000</td>\n",
       "      <td>1.000000</td>\n",
       "    </tr>\n",
       "    <tr>\n",
       "      <th>75%</th>\n",
       "      <td>1.640226e+07</td>\n",
       "      <td>5.220356</td>\n",
       "      <td>4.000000</td>\n",
       "      <td>1.000000</td>\n",
       "      <td>40.746096</td>\n",
       "      <td>-73.954660</td>\n",
       "      <td>23.000000</td>\n",
       "      <td>100.000000</td>\n",
       "      <td>1.000000</td>\n",
       "      <td>2.000000</td>\n",
       "    </tr>\n",
       "    <tr>\n",
       "      <th>max</th>\n",
       "      <td>2.123090e+07</td>\n",
       "      <td>7.600402</td>\n",
       "      <td>16.000000</td>\n",
       "      <td>8.000000</td>\n",
       "      <td>42.390437</td>\n",
       "      <td>-70.985047</td>\n",
       "      <td>605.000000</td>\n",
       "      <td>100.000000</td>\n",
       "      <td>10.000000</td>\n",
       "      <td>18.000000</td>\n",
       "    </tr>\n",
       "  </tbody>\n",
       "</table>\n",
       "</div>"
      ],
      "text/plain": [
       "                 id     log_price  accommodates     bathrooms      latitude  \\\n",
       "count  7.411100e+04  74111.000000  74111.000000  73911.000000  74111.000000   \n",
       "mean   1.126662e+07      4.782069      3.155146      1.235263     38.445958   \n",
       "std    6.081735e+06      0.717394      2.153589      0.582044      3.080167   \n",
       "min    3.440000e+02      0.000000      1.000000      0.000000     33.338905   \n",
       "25%    6.261964e+06      4.317488      2.000000      1.000000     34.127908   \n",
       "50%    1.225415e+07      4.709530      2.000000      1.000000     40.662138   \n",
       "75%    1.640226e+07      5.220356      4.000000      1.000000     40.746096   \n",
       "max    2.123090e+07      7.600402     16.000000      8.000000     42.390437   \n",
       "\n",
       "          longitude  number_of_reviews  review_scores_rating      bedrooms  \\\n",
       "count  74111.000000       74111.000000          57389.000000  74020.000000   \n",
       "mean     -92.397525          20.900568             94.067365      1.265793   \n",
       "std       21.705322          37.828641              7.836556      0.852143   \n",
       "min     -122.511500           0.000000             20.000000      0.000000   \n",
       "25%     -118.342374           1.000000             92.000000      1.000000   \n",
       "50%      -76.996965           6.000000             96.000000      1.000000   \n",
       "75%      -73.954660          23.000000            100.000000      1.000000   \n",
       "max      -70.985047         605.000000            100.000000     10.000000   \n",
       "\n",
       "               beds  \n",
       "count  73980.000000  \n",
       "mean       1.710868  \n",
       "std        1.254142  \n",
       "min        0.000000  \n",
       "25%        1.000000  \n",
       "50%        1.000000  \n",
       "75%        2.000000  \n",
       "max       18.000000  "
      ]
     },
     "execution_count": 65,
     "metadata": {},
     "output_type": "execute_result"
    }
   ],
   "source": [
    "df.describe()"
   ]
  },
  {
   "cell_type": "code",
   "execution_count": 66,
   "metadata": {
    "tags": []
   },
   "outputs": [
    {
     "name": "stdout",
     "output_type": "stream",
     "text": [
      "<class 'pandas.core.frame.DataFrame'>\n",
      "RangeIndex: 74111 entries, 0 to 74110\n",
      "Data columns (total 29 columns):\n",
      " #   Column                  Non-Null Count  Dtype  \n",
      "---  ------                  --------------  -----  \n",
      " 0   id                      74111 non-null  int64  \n",
      " 1   log_price               74111 non-null  float64\n",
      " 2   property_type           74111 non-null  object \n",
      " 3   room_type               74111 non-null  object \n",
      " 4   amenities               74111 non-null  object \n",
      " 5   accommodates            74111 non-null  int64  \n",
      " 6   bathrooms               73911 non-null  float64\n",
      " 7   bed_type                74111 non-null  object \n",
      " 8   cancellation_policy     74111 non-null  object \n",
      " 9   cleaning_fee            74111 non-null  bool   \n",
      " 10  city                    74111 non-null  object \n",
      " 11  description             74111 non-null  object \n",
      " 12  first_review            58247 non-null  object \n",
      " 13  host_has_profile_pic    73923 non-null  object \n",
      " 14  host_identity_verified  73923 non-null  object \n",
      " 15  host_response_rate      55812 non-null  object \n",
      " 16  host_since              73923 non-null  object \n",
      " 17  instant_bookable        74111 non-null  object \n",
      " 18  last_review             58284 non-null  object \n",
      " 19  latitude                74111 non-null  float64\n",
      " 20  longitude               74111 non-null  float64\n",
      " 21  name                    74111 non-null  object \n",
      " 22  neighbourhood           67239 non-null  object \n",
      " 23  number_of_reviews       74111 non-null  int64  \n",
      " 24  review_scores_rating    57389 non-null  float64\n",
      " 25  thumbnail_url           65895 non-null  object \n",
      " 26  zipcode                 73145 non-null  object \n",
      " 27  bedrooms                74020 non-null  float64\n",
      " 28  beds                    73980 non-null  float64\n",
      "dtypes: bool(1), float64(7), int64(3), object(18)\n",
      "memory usage: 15.9+ MB\n"
     ]
    }
   ],
   "source": [
    "df.info()"
   ]
  },
  {
   "cell_type": "code",
   "execution_count": 67,
   "metadata": {
    "tags": []
   },
   "outputs": [
    {
     "name": "stdout",
     "output_type": "stream",
     "text": [
      "id\n",
      "6901257     1\n",
      "2460250     1\n",
      "289037      1\n",
      "16492690    1\n",
      "14838028    1\n",
      "           ..\n",
      "14222061    1\n",
      "6238463     1\n",
      "15285110    1\n",
      "11226321    1\n",
      "3534845     1\n",
      "Name: count, Length: 74111, dtype: int64\n",
      "log_price\n",
      "5.010635    2729\n",
      "4.605170    2707\n",
      "4.317488    2049\n",
      "5.298317    1923\n",
      "3.912023    1920\n",
      "            ... \n",
      "6.999422       1\n",
      "6.725034       1\n",
      "7.070724       1\n",
      "6.156979       1\n",
      "6.357842       1\n",
      "Name: count, Length: 767, dtype: int64\n",
      "property_type\n",
      "Apartment             49003\n",
      "House                 16511\n",
      "Condominium            2658\n",
      "Townhouse              1692\n",
      "Loft                   1244\n",
      "Other                   607\n",
      "Guesthouse              498\n",
      "Bed & Breakfast         462\n",
      "Bungalow                366\n",
      "Villa                   179\n",
      "Dorm                    142\n",
      "Guest suite             123\n",
      "Camper/RV                94\n",
      "Timeshare                77\n",
      "Cabin                    72\n",
      "In-law                   71\n",
      "Hostel                   70\n",
      "Boutique hotel           69\n",
      "Boat                     65\n",
      "Serviced apartment       21\n",
      "Tent                     18\n",
      "Castle                   13\n",
      "Vacation home            11\n",
      "Yurt                      9\n",
      "Hut                       8\n",
      "Treehouse                 7\n",
      "Chalet                    6\n",
      "Earth House               4\n",
      "Tipi                      3\n",
      "Train                     2\n",
      "Cave                      2\n",
      "Casa particular           1\n",
      "Parking Space             1\n",
      "Lighthouse                1\n",
      "Island                    1\n",
      "Name: count, dtype: int64\n",
      "room_type\n",
      "Entire home/apt    41310\n",
      "Private room       30638\n",
      "Shared room         2163\n",
      "Name: count, dtype: int64\n",
      "amenities\n",
      "{}                                                                                                                                                                                                                                                                                                                                                                                                                                                                                                                                                                                               586\n",
      "{\"translation missing: en.hosting_amenity_49\",\"translation missing: en.hosting_amenity_50\"}                                                                                                                                                                                                                                                                                                                                                                                                                                                                                                      135\n",
      "{\"Family/kid friendly\"}                                                                                                                                                                                                                                                                                                                                                                                                                                                                                                                                                                          103\n",
      "{\"Pets allowed\",\"Family/kid friendly\"}                                                                                                                                                                                                                                                                                                                                                                                                                                                                                                                                                            27\n",
      "{TV,\"Cable TV\",Internet,\"Wireless Internet\",\"Air conditioning\",Kitchen,\"Pets allowed\",Doorman,Gym,Elevator,Heating,\"Family/kid friendly\",Washer,Dryer,\"Smoke detector\",\"Carbon monoxide detector\",Essentials,Shampoo,\"24-hour check-in\",Hangers,\"Hair dryer\",Iron,\"Laptop friendly workspace\",\"Self Check-In\",Doorman}                                                                                                                                                                                                                                                                            26\n",
      "                                                                                                                                                                                                                                                                                                                                                                                                                                                                                                                                                                                                ... \n",
      "{TV,Internet,\"Wireless Internet\",Kitchen,\"Free parking on premises\",\"Pets live on this property\",Cat(s),Heating,Washer,Dryer,\"Smoke detector\",\"Carbon monoxide detector\",Essentials,Hangers,\"Hair dryer\",Iron,\"Laptop friendly workspace\",\"translation missing: en.hosting_amenity_49\",\"translation missing: en.hosting_amenity_50\"}                                                                                                                                                                                                                                                               1\n",
      "{TV,Internet,\"Air conditioning\",Kitchen,\"Pets allowed\",\"Pets live on this property\",Heating,\"Family/kid friendly\",Washer,Dryer,\"Smoke detector\",Essentials,Shampoo,Hangers,Iron}                                                                                                                                                                                                                                                                                                                                                                                                                   1\n",
      "{TV,\"Cable TV\",Internet,\"Wireless Internet\",Kitchen,\"Pets allowed\",\"Pets live on this property\",Dog(s),Heating,\"Family/kid friendly\",\"Suitable for events\",\"Smoke detector\",\"Carbon monoxide detector\",\"First aid kit\",\"Safety card\",\"Fire extinguisher\",Essentials,Shampoo,\"Lock on bedroom door\",\"24-hour check-in\",Hangers,\"Hair dryer\",Iron,\"Laptop friendly workspace\",\"Children’s books and toys\",\"Hot water\",\"Bed linens\",\"Extra pillows and blankets\",Microwave,\"Coffee maker\",Refrigerator,Dishwasher,\"Dishes and silverware\",\"Cooking basics\",Oven,Stove,\"Luggage dropoff allowed\"}      1\n",
      "{TV,Internet,\"Wireless Internet\",\"Air conditioning\",Kitchen,Heating,\"Family/kid friendly\",Washer,Dryer,\"24-hour check-in\",\"Hair dryer\",Iron,\"Laptop friendly workspace\",\"Self Check-In\",Keypad}                                                                                                                                                                                                                                                                                                                                                                                                    1\n",
      "{TV,Internet,\"Wireless Internet\",Kitchen,\"Free parking on premises\",Heating,\"Family/kid friendly\",\"Smoke detector\",\"Carbon monoxide detector\",\"First aid kit\",\"Safety card\",\"Fire extinguisher\",Essentials,Shampoo,\"24-hour check-in\",Hangers,\"Hair dryer\",\"Laptop friendly workspace\"}                                                                                                                                                                                                                                                                                                            1\n",
      "Name: count, Length: 67122, dtype: int64\n",
      "accommodates\n",
      "2     31854\n",
      "4     12066\n",
      "1      9434\n",
      "3      7794\n",
      "6      4969\n",
      "5      3444\n",
      "8      1795\n",
      "7       946\n",
      "10      701\n",
      "16      301\n",
      "9       270\n",
      "12      264\n",
      "14      104\n",
      "11       79\n",
      "15       54\n",
      "13       36\n",
      "Name: count, dtype: int64\n",
      "bathrooms\n",
      "1.0    58099\n",
      "2.0     7936\n",
      "1.5     3801\n",
      "2.5     1567\n",
      "3.0     1066\n",
      "3.5      429\n",
      "4.0      286\n",
      "0.5      209\n",
      "0.0      198\n",
      "4.5      116\n",
      "5.0       72\n",
      "8.0       41\n",
      "5.5       39\n",
      "6.0       24\n",
      "6.5       12\n",
      "7.0       10\n",
      "7.5        6\n",
      "Name: count, dtype: int64\n",
      "bed_type\n",
      "Real Bed         72028\n",
      "Futon              753\n",
      "Pull-out Sofa      585\n",
      "Airbed             477\n",
      "Couch              268\n",
      "Name: count, dtype: int64\n",
      "cancellation_policy\n",
      "strict             32374\n",
      "flexible           22545\n",
      "moderate           19063\n",
      "super_strict_30      112\n",
      "super_strict_60       17\n",
      "Name: count, dtype: int64\n",
      "cleaning_fee\n",
      "True     54403\n",
      "False    19708\n",
      "Name: count, dtype: int64\n",
      "city\n",
      "NYC        32349\n",
      "LA         22453\n",
      "SF          6434\n",
      "DC          5688\n",
      "Chicago     3719\n",
      "Boston      3468\n",
      "Name: count, dtype: int64\n",
      "description\n",
      "Hello, I've been running guest house for Koreans visiting U.S. for 3years, and recently decided to run this place for other travelers also. There are 10 room in the house. They are mostly dormitory rooms and couple of couple room and family room. This places are our women's dormitory in third floor. There are three rooms, but no doors. It is basically open space. There are 2 beds in two rooms and 4 in one room. I do not have closet in this room but there are hangers and mini shelves. My travelers usually put their baggage on the floor. There is one full bathroom only for women in 2nd floor, which you will be sharing with other women guests. Right next that bathroom, there is unisex half bathroom. All bathrooms have hair dryers. You cannot use kitchen, but you can use refrigerator.  I offer breakfast every morning from 7-10 am. Bread, cereal, fruits, coffee, milk and juice will be served. You can eat take-out food in the kitchen, but please wash dishes that you used and put trash in the    8\n",
      "Private room in the heart of Little Italy with FREE PARKING :) You will have your own personal door code and may arrive at ANY time you would like and as late as you wish. You can store your luggage in the closet before check-in and after check-out times :) Price adapts to demand, my rates change constantly - every night is different! Put your dates in the calendar, with the number of guests, and what you see is what you'll pay :) The neighborhood is extremely safe even at night :) Restaurants and bars are right round the corner, both upscale and casual. This room is 6 minutes away by car or uber to Chicago's famous Willis (Sears) tower. Uber costs about $7. If you are arriving by car, I am providing free resident parking passes for anywhere in the area. (Yes, that means you can drive a few blocks and still park anywhere you want!) The room will be solely yours for the time you'll stay in the Windy City. Shall you have any concerns or need any tips from the local, I'll always be happy     7\n",
      "#NAME?                                                                                                                                                                                                                                                                                                                                                                                                                                                                                                                                                                                                                                                                                                                                                                                                                                                                                                                                                                                                                                      6\n",
      "Welcome to RMH, a co-ed hostel vibe home for exploring travelers or working individuals needing temporary housing. (Guests access is from 3pm to 11am daily). NON-SMOKERS ONLY! Host & small dog live on property. NOTE: Guests' bedroom is dog free. GUARANTEED In Our Home: *You receive a clean home in a safe neighborhood, clean sheets, pillow, towel and covers. **You MUST Read House Rules BEFORE Booking :) ***IMPORTANT ***SMOKERS who book: reservation cancelled upon arrival + NO Refund. The bedroom is very large with enough space for everyone (6 guests) to have peace and quiet. The kitchen and bath are very spacious. Guests will have their own keys and have access to the bedroom in which they stay, kitchen, bathroom, living room and deck. OPTIONAL: (Normal Check IN is 3pm, Check OUT is 10am) If you would like an EARLY CHECK IN before 3pm ($25 fee) Guests trying to check in after 10pm will need to get pre-approval from host and pay the late check in fee of $25. There is no key box and no gu    6\n",
      "Brand New 2017 Construction, Featuring 2 Bedrooms and 2 bathrooms . comfortable couch, coffee table, 50-inch TV in living room, with free Satellite Cable channel and internet Wi-Fi. Washer and Dryer in the building on each floor.This lovely Apartment is perfect for families, couples or four close friends! With over 900 square feet of living space.A short freeway ride to Westwood, Hollywood Bowl, Griffith Park, LA Zoo, and downtown venues such as Chinatown, LA Live, Staples Center and Olivera St. Enjoy the open entertainer floor plan featuring a gourmet kitchen with quartz counters w/natural mosaic stone and quartz back splash, Stainless Steel appliances, and designer cabinetry. All baths are tastefully done with tub/showers and sinks. Awesome living area, Enjoy those high ceilings! Terrific master suite with closet space. This is a \"smart home\" featuring an LED recessed lighting. Gated Garage is ready for two full sized cars all side by side.  A cozy retreat for your stay in Los Angele    5\n",
      "                                                                                                                                                                                                                                                                                                                                                                                                                                                                                                                                                                                                                                                                                                                                                                                                                                                                                                                                                                                                                                           ..\n",
      "The apartment is located in the Theatre District of Boston with stunning features and amenities. Nicely furnished, with built in washer and dryer, fully equipped kitchen, spacious living room. 1 minute walk to T. The bedroom  The futon is in the living room.                                                                                                                                                                                                                                                                                                                                                                                                                                                                                                                                                                                                                                                                                                                                                                          1\n",
      "Elegant two bedroom, two bath apartment with generous views located on quiet, charming street within minutes walking distance from NOPA and the Haight's latest and greatest shops and restaurants. Beautiful Edwardian building, surrounded by classic San Francisco homes. Exterior deck. 2000 square foot loft-like apartment with combined living dining area and open kitchen. Expansive bay windows offering great, natural light and terrific views, day and night.  Contemporary, spacious kitchen, great for cooking and a night in. Extensive living space with separate bedrooms and baths, allowing for privacy and quiet ~ perfect for couples traveling together or a family.  Located on a quiet, quintessentially charming SF block, with easy, available parking. Four blocks from the gorgeous Beuna Vista Park.  Excellent access to public transportation, and two blocks from underground Muni.                                                                                                                        1\n",
      "Private and clean bed/bath with separate entry in family home. The bed is a queen bed now, and the pictures will soon reflect that. Heated bathroom floors. Walking distance to LACMA, The Grove, Whole Foods, Trader Joe's, CBS Studios. Minutes to Hollywood, Beverly Hills, Beverly Center, and the beach. It has a purple refrigerator, a microwave, a desk space, and guest Wi-Fi. The bathroom has a bathtub and shower as well as heated marble floors. Guests will have access to the backyard and the private room only. Available for mainly answering any questions. Text me or my mom if you need something. I work from home, so I'm usually in the house. Quiet neighborhood. Most of the houses in this neighborhood were built in the 1920s. Lots of dog walkers all hours of the day and night. There's a Big Blue bus stop walking distance at Fairfax and Pico, and there are Metro bus stops along Fairfax and San Vicente. Big Blue fare is $1 and Metro is $1.50. Also, feel free to use Uber and Lyft. There are     1\n",
      "Warehouse loft, massive light-filled windows, stylish details and in the heart of Fulton Market. Blocks to the best restaurants— Au Cheval, The Publican, La Sirena, Next and Girl & The Goat. A short walk, or a 4-minute EL ride, to downtown. You'll love my comfy tree house bed, watching nightly sunsets and the neighborhood energy. This listing is a duplicate– I actually have reviews and ratings if you visit the other page, here: https://www.airbnb.com/rooms/13623767?preview=&sug=50 A huge, old classic Chicago industrial loft experience, with 20 ft. ceilings, massive warehouse windows, exposed brick walls and solid timber beams. A full wall of West-facing windows for nightly sunsets and watching storms roll-in; eclectic designed objects, furniture, artwork, books and antiques; real, comfortable bed in a lofted 'treehouse' space. Anything in my loft is free for you to enjoy, including the projector and projection screen, the sound system and record player, the kitchen and dining table for    1\n",
      "You will stay-aboard the Island Trader at one of the largest ports in the world, You're right in the heart of downtown Long Beach California, walking distant to many events and shopping, including the Long Beach Convention Center, Conference Center, The Queen Mary Ship, The Pike, Pine Street the Pacific Aquarium and much more. (Island Trader) is a private commercial charter boat as well, so if you would like to take a private harbor, sunset or whale watching during your stay just let us know. The Island Trader has comfortable sleeping quarters for up to four people, there is a bathroom onboard, fresh water, a galley with a refrigerator, toaster and microwave oven . Private hot showers are available with just a short walk up on the docks. Towels and linen are provided. Directv and Free WIFI Start your day with a unique shopping experience at Shoreline Village with all of its specialty shops. Next, take a walk over to the Long Beach Aquarium of the Pacific and take a journey of discovery    1\n",
      "Name: count, Length: 73474, dtype: int64\n",
      "first_review\n",
      "1/1/2017      293\n",
      "1/22/2017     249\n",
      "1/2/2016      221\n",
      "1/2/2017      211\n",
      "9/4/2017      193\n",
      "             ... \n",
      "12/9/2012       1\n",
      "4/20/2012       1\n",
      "11/29/2010      1\n",
      "3/28/2011       1\n",
      "12/1/2010       1\n",
      "Name: count, Length: 2554, dtype: int64\n",
      "host_has_profile_pic\n",
      "t    73697\n",
      "f      226\n",
      "Name: count, dtype: int64\n",
      "host_identity_verified\n",
      "t    49748\n",
      "f    24175\n",
      "Name: count, dtype: int64\n",
      "host_response_rate\n",
      "100%    43254\n",
      "90%      2277\n",
      "80%      1113\n",
      "0%        883\n",
      "50%       611\n",
      "        ...  \n",
      "39%         1\n",
      "15%         1\n",
      "31%         1\n",
      "21%         1\n",
      "6%          1\n",
      "Name: count, Length: 80, dtype: int64\n",
      "host_since\n",
      "3/30/2015     246\n",
      "2/14/2014     173\n",
      "5/18/2015      83\n",
      "9/16/2016      83\n",
      "7/6/2015       82\n",
      "             ... \n",
      "4/8/2009        1\n",
      "11/22/2009      1\n",
      "2/28/2010       1\n",
      "5/11/2009       1\n",
      "8/23/2009       1\n",
      "Name: count, Length: 3087, dtype: int64\n",
      "instant_bookable\n",
      "f    54660\n",
      "t    19451\n",
      "Name: count, dtype: int64\n",
      "last_review\n",
      "4/30/2017     1344\n",
      "9/24/2017     1278\n",
      "9/17/2017     1215\n",
      "4/23/2017     1025\n",
      "9/18/2017      832\n",
      "              ... \n",
      "12/11/2013       1\n",
      "6/19/2014        1\n",
      "10/26/2013       1\n",
      "3/28/2011        1\n",
      "12/28/2013       1\n",
      "Name: count, Length: 1371, dtype: int64\n",
      "latitude\n",
      "40.744040    2\n",
      "40.689275    2\n",
      "40.690627    2\n",
      "40.799829    2\n",
      "37.773155    2\n",
      "            ..\n",
      "34.067385    1\n",
      "40.669758    1\n",
      "40.667614    1\n",
      "40.831173    1\n",
      "33.761096    1\n",
      "Name: count, Length: 74058, dtype: int64\n",
      "longitude\n",
      "-73.949879     2\n",
      "-118.371753    2\n",
      "-73.949108     2\n",
      "-73.956756     2\n",
      "-73.931565     2\n",
      "              ..\n",
      "-73.989602     1\n",
      "-73.998885     1\n",
      "-118.350746    1\n",
      "-87.645442     1\n",
      "-118.192409    1\n",
      "Name: count, Length: 73973, dtype: int64\n",
      "name\n",
      "#NAME?                                           10\n",
      "Bunk bed in the Treat Street Clubhouse            8\n",
      "East Village Studio                               7\n",
      "Your home away from home                          7\n",
      "Location, Location, Location                      6\n",
      "                                                 ..\n",
      "Loveable Crown Heights apt w/ yard                1\n",
      "Charming studio apartment in Adams Morgan.        1\n",
      "Studio City cozy studio w/ parking                1\n",
      "SPACIOUS UPPER HAIGHT HOME IN THE HEART OF SF     1\n",
      "Cozy Boat at Shoreline Village                    1\n",
      "Name: count, Length: 73350, dtype: int64\n",
      "neighbourhood\n",
      "Williamsburg          2862\n",
      "Bedford-Stuyvesant    2166\n",
      "Bushwick              1601\n",
      "Upper West Side       1396\n",
      "Mid-Wilshire          1392\n",
      "                      ... \n",
      "Mill Basin               1\n",
      "Mt. Vernon Square        1\n",
      "Chevy Chase, MD          1\n",
      "Clearing                 1\n",
      "Grant City               1\n",
      "Name: count, Length: 619, dtype: int64\n",
      "number_of_reviews\n",
      "0      15819\n",
      "1       7106\n",
      "2       4750\n",
      "3       3661\n",
      "4       2912\n",
      "       ...  \n",
      "370        1\n",
      "254        1\n",
      "449        1\n",
      "314        1\n",
      "341        1\n",
      "Name: count, Length: 371, dtype: int64\n",
      "review_scores_rating\n",
      "100.0    16215\n",
      "98.0      4374\n",
      "97.0      4087\n",
      "96.0      4081\n",
      "95.0      3713\n",
      "93.0      3647\n",
      "90.0      2852\n",
      "99.0      2631\n",
      "94.0      2618\n",
      "80.0      2163\n",
      "92.0      2064\n",
      "91.0      1615\n",
      "89.0      1120\n",
      "87.0      1119\n",
      "88.0      1056\n",
      "85.0       625\n",
      "86.0       512\n",
      "60.0       444\n",
      "84.0       438\n",
      "83.0       403\n",
      "82.0       211\n",
      "70.0       196\n",
      "73.0       157\n",
      "81.0       126\n",
      "75.0       101\n",
      "20.0        97\n",
      "78.0        94\n",
      "40.0        90\n",
      "79.0        83\n",
      "76.0        76\n",
      "77.0        74\n",
      "67.0        66\n",
      "74.0        39\n",
      "72.0        38\n",
      "50.0        30\n",
      "65.0        28\n",
      "68.0        20\n",
      "71.0        14\n",
      "69.0        13\n",
      "63.0        11\n",
      "53.0        10\n",
      "64.0        10\n",
      "47.0         5\n",
      "30.0         4\n",
      "62.0         3\n",
      "66.0         3\n",
      "55.0         3\n",
      "57.0         3\n",
      "27.0         2\n",
      "35.0         1\n",
      "49.0         1\n",
      "58.0         1\n",
      "54.0         1\n",
      "56.0         1\n",
      "Name: count, dtype: int64\n",
      "thumbnail_url\n",
      "https://a0.muscache.com/im/pictures/70087089/bc66229a_original.jpg?aki_policy=small              3\n",
      "https://a0.muscache.com/im/pictures/23033013/54d62516_original.jpg?aki_policy=small              2\n",
      "https://a0.muscache.com/im/pictures/104667326/a7a2b145_original.jpg?aki_policy=small             2\n",
      "https://a0.muscache.com/im/pictures/95059281/d8bfc436_original.jpg?aki_policy=small              2\n",
      "https://a0.muscache.com/im/pictures/4491e5c5-33f6-4704-9887-76a059f86fda.jpg?aki_policy=small    2\n",
      "                                                                                                ..\n",
      "https://a0.muscache.com/im/pictures/111150220/7099e1de_original.jpg?aki_policy=small             1\n",
      "https://a0.muscache.com/im/pictures/bfc6695c-93f9-4a90-a6d8-9f6c038fff28.jpg?aki_policy=small    1\n",
      "https://a0.muscache.com/im/pictures/99319739/70c4beaf_original.jpg?aki_policy=small              1\n",
      "https://a0.muscache.com/im/pictures/3897544/bed318ce_original.jpg?aki_policy=small               1\n",
      "https://a0.muscache.com/im/pictures/22968537/da0156bc_original.jpg?aki_policy=small              1\n",
      "Name: count, Length: 65883, dtype: int64\n",
      "zipcode\n",
      "11211                                                   1618\n",
      "90291                                                   1274\n",
      "11221                                                   1198\n",
      "11206                                                   1015\n",
      "94110                                                    988\n",
      "                                                        ... \n",
      "20229                                                      1\n",
      "95202\\r\\r\\r\\r\\r\\r\\n\\r\\r\\r\\r\\r\\r\\n\\r\\r\\r\\r\\r\\r\\n94158       1\n",
      "10002-2289                                                 1\n",
      "92821                                                      1\n",
      "11239                                                      1\n",
      "Name: count, Length: 669, dtype: int64\n",
      "bedrooms\n",
      "1.0     49784\n",
      "2.0     11351\n",
      "0.0      6715\n",
      "3.0      4309\n",
      "4.0      1330\n",
      "5.0       355\n",
      "6.0       106\n",
      "7.0        38\n",
      "8.0        14\n",
      "10.0       10\n",
      "9.0         8\n",
      "Name: count, dtype: int64\n",
      "beds\n",
      "1.0     45144\n",
      "2.0     16704\n",
      "3.0      6442\n",
      "4.0      3065\n",
      "5.0      1287\n",
      "6.0       661\n",
      "7.0       216\n",
      "8.0       186\n",
      "10.0       88\n",
      "9.0        72\n",
      "16.0       38\n",
      "12.0       29\n",
      "11.0       23\n",
      "13.0       10\n",
      "15.0        6\n",
      "14.0        4\n",
      "0.0         4\n",
      "18.0        1\n",
      "Name: count, dtype: int64\n"
     ]
    }
   ],
   "source": [
    "index = df.columns\n",
    "for i in index:\n",
    "    print(df[i].value_counts())"
   ]
  },
  {
   "cell_type": "markdown",
   "metadata": {},
   "source": [
    "# 2 - Traitement des valeurs manquantes :"
   ]
  },
  {
   "cell_type": "code",
   "execution_count": 68,
   "metadata": {},
   "outputs": [
    {
     "name": "stdout",
     "output_type": "stream",
     "text": [
      "29\n",
      "========================================\n",
      "\n",
      "bathrooms :- 200,  dtypes : float64\n",
      "========================================\n",
      "\n",
      "first_review :- 15864,  dtypes : object\n",
      "========================================\n",
      "\n",
      "host_has_profile_pic :- 188,  dtypes : object\n",
      "========================================\n",
      "\n",
      "host_identity_verified :- 188,  dtypes : object\n",
      "========================================\n",
      "\n",
      "host_response_rate :- 18299,  dtypes : object\n",
      "========================================\n",
      "\n",
      "host_since :- 188,  dtypes : object\n",
      "========================================\n",
      "\n",
      "last_review :- 15827,  dtypes : object\n",
      "========================================\n",
      "\n",
      "neighbourhood :- 6872,  dtypes : object\n",
      "========================================\n",
      "\n",
      "review_scores_rating :- 16722,  dtypes : float64\n",
      "========================================\n",
      "\n",
      "thumbnail_url :- 8216,  dtypes : object\n",
      "========================================\n",
      "\n",
      "zipcode :- 966,  dtypes : object\n",
      "========================================\n",
      "\n",
      "bedrooms :- 91,  dtypes : float64\n",
      "========================================\n",
      "\n",
      "beds :- 131,  dtypes : float64\n"
     ]
    }
   ],
   "source": [
    "print(df.columns.size)\n",
    "for column in df.columns:\n",
    "    \n",
    "    if df[column].isnull().sum() != 0:\n",
    "        \n",
    "        print(\"========================================\")\n",
    "        print(\"\\n{} :- {},  dtypes : {}\".format(column,df[column].isnull().sum(),df[column].dtypes))"
   ]
  },
  {
   "cell_type": "markdown",
   "metadata": {},
   "source": [
    "## 2.1 - de Type String :"
   ]
  },
  {
   "cell_type": "markdown",
   "metadata": {},
   "source": [
    "## 2.1.1 - Neighbourhood par \"unknown\":"
   ]
  },
  {
   "cell_type": "code",
   "execution_count": 69,
   "metadata": {},
   "outputs": [],
   "source": [
    "# df.dropna(subset=['neighbourhood'],inplace=True)\n",
    "df['neighbourhood'].fillna('unknown',inplace=True)"
   ]
  },
  {
   "cell_type": "markdown",
   "metadata": {},
   "source": [
    "## 2.1.2 - Has_profile_pic par \"f\" (false) :"
   ]
  },
  {
   "cell_type": "code",
   "execution_count": 70,
   "metadata": {},
   "outputs": [],
   "source": [
    "df.host_has_profile_pic.fillna('f',inplace=True)"
   ]
  },
  {
   "cell_type": "markdown",
   "metadata": {},
   "source": [
    "## 2.1.3 - Host_identity_verified par \"f\" (false) :"
   ]
  },
  {
   "cell_type": "code",
   "execution_count": 71,
   "metadata": {},
   "outputs": [],
   "source": [
    "df.host_identity_verified.fillna('f',inplace=True)"
   ]
  },
  {
   "cell_type": "markdown",
   "metadata": {},
   "source": [
    "## 2.2 - De Type Numerique :"
   ]
  },
  {
   "cell_type": "markdown",
   "metadata": {},
   "source": [
    "## 2.2.1 - Zip code (deduit à partie de neighbourhood) : "
   ]
  },
  {
   "cell_type": "code",
   "execution_count": 72,
   "metadata": {},
   "outputs": [],
   "source": [
    "placeToZip = {\n",
    "    \"Park Slope\": 11215,\n",
    "    \"Financial District\": 10004,\n",
    "    \"Bushwick\": 11237,\n",
    "    \"Gramercy Park\": 10010,\n",
    "    \"Brighton Beach\": 11235,\n",
    "    \"Civic Center\": 10007,\n",
    "    \"Flatbush\": 11226,\n",
    "    \"Sunset Park\": 11220,\n",
    "    \"Crown Heights\": 11213,\n",
    "    \"Williamsburg\": 11211,\n",
    "    \"Western Addition/NOPA\": 94115,\n",
    "    \"Ridgewood\": 11385,\n",
    "    \"Concourse\": 10453,\n",
    "    \"Roxbury\": 2118,\n",
    "    \"Lower East Side\": 10002,\n",
    "    \"Soho\": 10012,\n",
    "    \"Mission District\": 94110,\n",
    "    \"Upper East Side\": 10021,\n",
    "    \"Marina Del Rey\": 90292,\n",
    "    \"Ditmars / Steinway\": 11105,\n",
    "    \"Bedford-Stuyvesant\": 11205,\n",
    "    \"Encino\": 91316,\n",
    "    \"Chelsea\": 10001,\n",
    "    \"Richmond District\": 94121,\n",
    "    \"Wicker Park\": 60622,\n",
    "    \"Downtown\": 60622,\n",
    "    \"SoMa\": 94103,\n",
    "    \"South End\": 2118,\n",
    "    \"Back Bay\": 2116,\n",
    "    \"Harlem\": 10026,\n",
    "    \"Tenderloin\": 94102,\n",
    "    \"Mission Bay\": 94158,\n",
    "    \"Nolita\": 10012,\n",
    "    \"Alphabet City\": 10009,\n",
    "    \"Bayview\": 94124,\n",
    "    \"Long Island City\": 11101,\n",
    "    \"East Harlem\": 10029,\n",
    "    \"East Boston\": 2128,\n",
    "    \"Lefferts Garden\": 11225,\n",
    "    \"Coney Island\": 11224,\n",
    "    \"Russian Hill\": 94133,\n",
    "    \"Columbia Street Waterfront\": 11231,\n",
    "    \"Washington Heights\": 10032,\n",
    "    \"Upper West Side\": 10023,\n",
    "    \"Carroll Gardens\": 11231,\n",
    "    \"Inwood\": 10034,\n",
    "    \"Murray Hill\": 10016,\n",
    "    \"Sunnyside\": 11104,\n",
    "    \"Hell's Kitchen\": 10019,\n",
    "    \"Venice\": 90291,\n",
    "    \"South Beach\": 94105,\n",
    "    \"Times Square/Theatre District\": 10036,\n",
    "    \"Astoria\": 11103,\n",
    "    \"Nob Hill\": 94108,\n",
    "    \"Meatpacking District\": 10014,\n",
    "    \"Midtown East\": 10022,\n",
    "    \"Hamilton Heights\": 10031,\n",
    "    \"East Hollywood\": 90028,\n",
    "    \"Howard Beach\": 11414,\n",
    "    \"Midtown\": 10019,\n",
    "    \"Flatiron District\": 10010,\n",
    "    \"Borough Park\": 11219,\n",
    "    \"Malibu\": 90265,\n",
    "    \"Chinatown\": 10013,\n",
    "    \"Marina\": 94123,\n",
    "    \"Forest Hills\": 11375,\n",
    "    \"Kew Garden Hills\": 11367,\n",
    "    \"Morningside Heights\": 10027,\n",
    "    \"Allston-Brighton\": 2134,\n",
    "    \"Woodland Hills/Warner Center\": 91367,\n",
    "    \"Beacon Hill\": 2108,\n",
    "    \"Telegraph Hill\": 94133,\n",
    "    \"Greenwich Village\": 10014,\n",
    "    \"Clinton Hill\": 11205,\n",
    "    \"Georgetown\": 11205,\n",
    "    \"West Village\": 10014,\n",
    "    \"Flushing\": 11354,\n",
    "    \"North End\": 2113,\n",
    "    \"Rancho Palos Verdes\": 90275,\n",
    "    \"Midwood\": 11230,\n",
    "    \"Fort Greene\": 11205,\n",
    "    \"East Flatbush\": 11203,\n",
    "    \"Prospect Heights\": 11238,\n",
    "    \"East Village\": 10003,\n",
    "    \"Northridge\": 91324,\n",
    "    \"Noe Valley\": 94114,\n",
    "    \"Elmhurst\": 11373,\n",
    "    \"Red Hook\": 11231,\n",
    "    \"Manhattan\": 11231,\n",
    "    \"Excelsior\": 94112,\n",
    "    \"Union Square\": 10003,\n",
    "    \"Twin Peaks\": 94131,\n",
    "    \"North Beach\": 94133,\n",
    "    \"Hollywood\": 90028,\n",
    "    \"Outer Sunset\": 94122,\n",
    "    \"Jamaica Plain\": 2130,\n",
    "    \"Jamaica\": 11432,\n",
    "    \"Cow Hollow\": 94123,\n",
    "    \"Logan Square\": 60647,\n",
    "    \"Arrochar\": 10305,\n",
    "    \"Brooklyn Heights\": 11201,\n",
    "    \"Santa Monica\": 90402,\n",
    "    \"Dorchester\": 2124,\n",
    "    \"Woodhaven\": 11421,\n",
    "    \"Lower Haight\": 94117,\n",
    "    \"Crocker Amazon\": 94112,\n",
    "    \"Gravesend\": 11223,\n",
    "    \"Bernal Heights\": 94110,\n",
    "    \"Claremont\": 94110,\n",
    "    \"Parkchester\": 10462,\n",
    "    \"Roslindale\": 2131,\n",
    "    \"The Rockaways\": 11693,\n",
    "    \"Pacific Heights\": 94115,\n",
    "    \"Greenwood Heights\": 11232,\n",
    "    \"Haight-Ashbury\": 94117,\n",
    "    \"Corona\": 11368,\n",
    "    \"West Hollywood\": 90046,\n",
    "    \"Near Northeast/H Street Corridor\": 90046,\n",
    "    \"Tribeca\": 10013,\n",
    "    \"Queens\": 11450,\n",
    "    \"Greenpoint\": 11222,\n",
    "    \"East Elmhurst\": 11369,\n",
    "    \"Glendale\": 11385,\n",
    "    \"Kips Bay\": 10016,\n",
    "    \"Fenway/Kenmore\": 2215,\n",
    "    \"Mission Hill\": 2120,\n",
    "    \"Middle Village\": 11379,\n",
    "    \"Richmond Hill\": 11418,\n",
    "    \"Bath Beach\": 11214,\n",
    "    \"Parkside\": 11226,\n",
    "    \"Diamond Heights\": 94131,\n",
    "    \"East New York\": 11207,\n",
    "    \"Alamo Square\": 94115,\n",
    "    \"Downtown Brooklyn\": 11217,\n",
    "    \"Bel Air/Beverly Crest\": 90077,\n",
    "    \"Mott Haven\": 10455,\n",
    "    \"Sheepshead Bay\": 11235,\n",
    "    \"Capitol Hill\": 11235,\n",
    "    \"South Boston\": 2127,\n",
    "    \"Presidio\": 94129,\n",
    "    \"Hollywood Hills\": 90068,\n",
    "    \"Inner Sunset\": 94122,\n",
    "    \"unknown\":-1\n",
    "}"
   ]
  },
  {
   "cell_type": "code",
   "execution_count": 73,
   "metadata": {},
   "outputs": [],
   "source": [
    "df['zipcode'] = df['zipcode'].str.split('-').str[0]\n"
   ]
  },
  {
   "cell_type": "code",
   "execution_count": 74,
   "metadata": {},
   "outputs": [],
   "source": [
    "def fillZipCode():\n",
    "    for i, (n , z) in enumerate(zip(df[\"neighbourhood\"],df[\"zipcode\"])):\n",
    "        if pd.isnull(z):\n",
    "            df.at[i, \"zipcode\"] = placeToZip[n]\n",
    "fillZipCode()"
   ]
  },
  {
   "cell_type": "code",
   "execution_count": 75,
   "metadata": {},
   "outputs": [],
   "source": [
    "def replace_zipcode_values(df):\n",
    "    conditions = (df['zipcode'].str.contains(' ')) | (df['zipcode'] == '1m') | (df['zipcode'].str.contains('\\r'))\n",
    "    df.loc[conditions, 'zipcode'] = -1\n",
    "    return df\n",
    "\n",
    "df = replace_zipcode_values(df)\n",
    "\n",
    "\n"
   ]
  },
  {
   "cell_type": "code",
   "execution_count": 76,
   "metadata": {},
   "outputs": [
    {
     "data": {
      "text/plain": [
       "dtype('O')"
      ]
     },
     "execution_count": 76,
     "metadata": {},
     "output_type": "execute_result"
    }
   ],
   "source": [
    "df['zipcode'].dtype"
   ]
  },
  {
   "cell_type": "markdown",
   "metadata": {},
   "source": [
    "## 2.2.2 - review_scores_rating - dropped : "
   ]
  },
  {
   "cell_type": "code",
   "execution_count": 77,
   "metadata": {
    "tags": []
   },
   "outputs": [],
   "source": [
    "# it's the target value\n",
    "# when we drop this columns we also drop first_review and last_review columns\n",
    "df.dropna(subset=['review_scores_rating'], inplace=True)"
   ]
  },
  {
   "cell_type": "markdown",
   "metadata": {},
   "source": [
    "## 2.2.2 - bathrooms par \"1\" (le min qu'un logement peut avoir) : "
   ]
  },
  {
   "cell_type": "code",
   "execution_count": 78,
   "metadata": {
    "tags": []
   },
   "outputs": [],
   "source": [
    "df.bathrooms.fillna(1,inplace=True)"
   ]
  },
  {
   "cell_type": "markdown",
   "metadata": {},
   "source": [
    "## 2.2.3 - host_response_rate par mean value :"
   ]
  },
  {
   "cell_type": "code",
   "execution_count": 79,
   "metadata": {},
   "outputs": [],
   "source": [
    "df['host_response_rate'] = df['host_response_rate'].str.rstrip('%').astype(float)\n",
    "mean_value = df['host_response_rate'].mean()\n",
    "# Fill null values with the mean\n",
    "df['host_response_rate'].fillna(mean_value, inplace=True)"
   ]
  },
  {
   "cell_type": "markdown",
   "metadata": {},
   "source": [
    "## 2.2.4 - Host_response_rate - dropped :"
   ]
  },
  {
   "cell_type": "code",
   "execution_count": 80,
   "metadata": {},
   "outputs": [
    {
     "data": {
      "text/plain": [
       "host_response_rate\n",
       "100.000000    37921\n",
       "95.546716      9386\n",
       "90.000000      2069\n",
       "80.000000       964\n",
       "70.000000       439\n",
       "              ...  \n",
       "15.000000         1\n",
       "27.000000         1\n",
       "31.000000         1\n",
       "21.000000         1\n",
       "66.000000         1\n",
       "Name: count, Length: 78, dtype: int64"
      ]
     },
     "execution_count": 80,
     "metadata": {},
     "output_type": "execute_result"
    }
   ],
   "source": [
    "df['host_response_rate'].value_counts(dropna=False)"
   ]
  },
  {
   "cell_type": "markdown",
   "metadata": {},
   "source": [
    "## 2.2.5 - beds par \"accomodates :"
   ]
  },
  {
   "cell_type": "code",
   "execution_count": 81,
   "metadata": {},
   "outputs": [],
   "source": [
    "df['beds'].fillna(df['accommodates'], inplace=True)"
   ]
  },
  {
   "cell_type": "markdown",
   "metadata": {},
   "source": [
    "## 2.2.6 - Bedrooms par \"mod 2 de beds\"(2 beds per bedroom) :"
   ]
  },
  {
   "cell_type": "code",
   "execution_count": 82,
   "metadata": {},
   "outputs": [],
   "source": [
    "def custom_fillna(value1, value2):\n",
    "    if np.isnan(value1):\n",
    "        return divmod(value2, 2)[0] + divmod(value2, 2)[1]\n",
    "    else:\n",
    "        return value1\n",
    "\n",
    "# Apply the custom function to fill null values in 'column1'\n",
    "df['bedrooms'] = df.apply(lambda row: custom_fillna(row['bedrooms'], row['beds']), axis=1)"
   ]
  },
  {
   "cell_type": "markdown",
   "metadata": {},
   "source": [
    "## 2.3 - de type Date"
   ]
  },
  {
   "cell_type": "markdown",
   "metadata": {},
   "source": [
    "## 2.3.1 First_review - dropped :"
   ]
  },
  {
   "cell_type": "code",
   "execution_count": 83,
   "metadata": {
    "tags": []
   },
   "outputs": [],
   "source": [
    "# when we drop this columns we also drop first_review and last_review columns that why we didn't dropped last_review\n",
    "df.dropna(subset=['first_review'], inplace=True)"
   ]
  },
  {
   "cell_type": "markdown",
   "metadata": {},
   "source": [
    "## 2.3.2 Host_since - dropped :"
   ]
  },
  {
   "cell_type": "markdown",
   "metadata": {},
   "source": [
    "df.dropna(subset=['host_since'], inplace=True)"
   ]
  },
  {
   "cell_type": "markdown",
   "metadata": {},
   "source": [
    "# 4 - traitement de amenities"
   ]
  },
  {
   "cell_type": "code",
   "execution_count": 84,
   "metadata": {
    "tags": []
   },
   "outputs": [],
   "source": [
    "# df['amenities'] = df['amenities'].str.strip('{}').str.replace('\"\"', '')\n",
    "# df['amenities'] = df['amenities'].str.split(',')\n",
    "# print(df.amenities)"
   ]
  },
  {
   "cell_type": "markdown",
   "metadata": {},
   "source": [
    "# 5 - Supprimer les colonnes inutiles"
   ]
  },
  {
   "cell_type": "code",
   "execution_count": 85,
   "metadata": {},
   "outputs": [],
   "source": [
    "df.drop(['description','thumbnail_url','name','amenities',\"longitude\",\"latitude\"],axis=1,inplace=True)"
   ]
  },
  {
   "cell_type": "markdown",
   "metadata": {},
   "source": [
    "# 6 - Normalisation"
   ]
  },
  {
   "cell_type": "code",
   "execution_count": 86,
   "metadata": {},
   "outputs": [],
   "source": [
    "from sklearn.preprocessing import MinMaxScaler, StandardScaler, RobustScaler"
   ]
  },
  {
   "cell_type": "code",
   "execution_count": 87,
   "metadata": {},
   "outputs": [],
   "source": [
    "df['zipcode'] = MinMaxScaler().fit_transform(df[['zipcode']])\n",
    "df['zipcode'] = df['zipcode'].astype(float)"
   ]
  },
  {
   "cell_type": "code",
   "execution_count": 88,
   "metadata": {},
   "outputs": [
    {
     "data": {
      "image/png": "[encoded data removed]",
      "text/plain": [
       "<Figure size 1200x600 with 1 Axes>"
      ]
     },
     "metadata": {},
     "output_type": "display_data"
    }
   ],
   "source": [
    "def zip_hist(df):\n",
    "    import matplotlib\n",
    "    import numpy as np\n",
    "    import matplotlib.pyplot as plt\n",
    "    plt.rcParams.update({'figure.max_open_warning': 0}) \n",
    "    fig = plt.figure(figsize=(12,6))\n",
    "    fig.clf()\n",
    "    # sns.boxplot(.to_numpy(), bins = 30)\n",
    "    sns.boxplot(df[\"zipcode\"])\n",
    "    # plt.set_title('Histogram of ' + \"zipcode\" + '\\n for readmitted patients')\n",
    "    # fig.savefig('hist_' + \"zipcode\" + '.png')\n",
    "    # plt.xticks(rotation=90)\n",
    "zip_hist(df)"
   ]
  },
  {
   "cell_type": "markdown",
   "metadata": {},
   "source": [
    "## traitement de longitude"
   ]
  },
  {
   "cell_type": "code",
   "execution_count": 89,
   "metadata": {},
   "outputs": [],
   "source": [
    "# df[\"longitude\"] = df['longitude'] - df['longitude'].min()"
   ]
  },
  {
   "cell_type": "markdown",
   "metadata": {},
   "source": [
    "# 7 - Visualisation"
   ]
  },
  {
   "cell_type": "code",
   "execution_count": 90,
   "metadata": {},
   "outputs": [],
   "source": [
    "# def satisfaction_bar(df):   \n",
    "#     import matplotlib\n",
    "#     import numpy as np\n",
    "#     import matplotlib.pyplot as plt\n",
    "#     plt.rcParams.update({'figure.max_open_warning': 0})\n",
    "    \n",
    "#     # names = df.columns.tolist()\n",
    "#     selected_names= ['property_type','room_type','bed_type','cancellation_policy','cleaning_fee','city',\n",
    "#                     'first_review','host_has_profile_pic','host_identity_verified','host_response_rate',\n",
    "#                     'host_since','instant_bookable','last_review','zipcode']\n",
    "#     for col in selected_names:\n",
    "#         if(df[col].dtype not in [np.int64, np.int32, np.float64]):\n",
    "#             temp1 = df.loc[df.review_scores_rating == 1, col].value_counts()\n",
    "#             temp0 = df.loc[df.review_scores_rating == 0, col].value_counts() \n",
    "#             fig = plt.figure(figsize=(8,4))\n",
    "#             fig.clf()\n",
    "#             ax1 = fig.add_subplot(1, 2, 1)\n",
    "#             ax0 = fig.add_subplot(1, 2, 2) \n",
    "#             temp1.plot(kind = 'bar', ax = ax1)\n",
    "#             ax1.set_title('Values of ' + col + '\\n for satisfied clients')\n",
    "#             temp0.plot(kind = 'bar', ax = ax0)\n",
    "#             ax0.set_title('Values of ' + col + '\\n for not satisfied clients')\n",
    "#             # fig.savefig('bar_' + col + '.png')\n",
    "#             print(col)\n",
    "    \n",
    "            \n",
    "#     return 'Done'\n",
    "# satisfaction_bar(df)"
   ]
  },
  {
   "cell_type": "code",
   "execution_count": 91,
   "metadata": {
    "tags": []
   },
   "outputs": [],
   "source": [
    "\n",
    "# def satisfaction_box(df):\n",
    "#     import matplotlib\n",
    "#     import numpy as np\n",
    "#     import matplotlib.pyplot as plt\n",
    "#     plt.rcParams.update({'figure.max_open_warning': 0})\n",
    "    \n",
    "#     names = df.columns.tolist()\n",
    "#     for col in names:\n",
    "#         if(df[col].dtype in [np.int64, np.int32, np.float64]):\n",
    "#             temp1 = df.loc[df.review_scores_rating == 1, col]\n",
    "#             temp0 = df.loc[df.review_scores_rating == 0, col]  \n",
    "             \n",
    "#             fig = plt.figure(figsize=(8,4))\n",
    "#             fig.clf()\n",
    "#             ax1 = fig.add_subplot(1, 2, 1)\n",
    "#             ax0 = fig.add_subplot(1, 2, 2) \n",
    "#             ax1.boxplot(temp1.to_numpy())\n",
    "#             ax1.set_title('Box plot of ' + col + '\\n for satisfied clients')\n",
    "#             ax0.boxplot(temp0.to_numpy())\n",
    "#             ax0.set_title('Box plot of ' + col + '\\n for not satisfied clients')\n",
    "#             fig.savefig('box_' + col + '.png')\n",
    "\n",
    "#     return 'Done'\n",
    "    \n",
    "# satisfaction_box(df)"
   ]
  },
  {
   "cell_type": "code",
   "execution_count": 92,
   "metadata": {
    "tags": []
   },
   "outputs": [],
   "source": [
    "# def satisfaction_hist(df):\n",
    "#     import matplotlib\n",
    "#     import numpy as np\n",
    "#     import matplotlib.pyplot as plt\n",
    "#     plt.rcParams.update({'figure.max_open_warning': 0})\n",
    "    \n",
    "#     names = df.columns.tolist()\n",
    "#     for col in names:\n",
    "#         if(df[col].dtype in [np.int64, np.int32, np.float64]):\n",
    "#             temp1 = df.loc[df.review_scores_rating == 1, col]\n",
    "#             temp0 = df.loc[df.review_scores_rating == 0, col]  \n",
    "             \n",
    "#             fig = plt.figure(figsize=(8,4))\n",
    "#             fig.clf()\n",
    "#             ax1 = fig.add_subplot(1, 2, 1)\n",
    "#             ax0 = fig.add_subplot(1, 2, 2) \n",
    "#             ax1.hist(temp1.to_numpy(), bins = 30)\n",
    "#             ax1.set_title('Histogram of ' + col + '\\n for readmitted patients')\n",
    "#             ax0.hist(temp0.to_numpy(), bins = 30)\n",
    "#             ax0.set_title('Histogram of ' + col + '\\n for patients not readmitted')\n",
    "#             fig.savefig('hist_' + col + '.png')\n",
    "\n",
    "#     return 'Done'\n",
    "\n",
    "# satisfaction_hist(df)"
   ]
  },
  {
   "cell_type": "markdown",
   "metadata": {},
   "source": [
    "# 8 - Traitement de catégories "
   ]
  },
  {
   "cell_type": "code",
   "execution_count": 93,
   "metadata": {},
   "outputs": [
    {
     "data": {
      "text/plain": [
       "array(['t', 'f'], dtype=object)"
      ]
     },
     "execution_count": 93,
     "metadata": {},
     "output_type": "execute_result"
    }
   ],
   "source": [
    "df.host_has_profile_pic.unique()"
   ]
  },
  {
   "cell_type": "code",
   "execution_count": 94,
   "metadata": {},
   "outputs": [],
   "source": [
    "# df.zipcode = df.zipcode.astype(float)\n",
    "from sklearn import preprocessing\n",
    "\n",
    "le = preprocessing.LabelEncoder()\n",
    "\n",
    "def codage_categorie(data):\n",
    "    for column_name in data.columns:\n",
    "        if data[column_name].dtype == object and column_name != \"host_since\" and column_name != \"last_review\" and column_name != \"first_review\" :\n",
    "            data_encoded = pd.get_dummies(data[column_name], prefix=column_name).astype(float)\n",
    "            data = pd.concat([data, data_encoded], axis=1)\n",
    "            data.drop([column_name],axis=1,inplace=True)\n",
    "        elif column_name == \"host_since\" or column_name == \"last_review\" or column_name == \"first_review\" :\n",
    "            data[column_name] = pd.to_datetime(data[column_name])\n",
    "            # data[column_name] = (data[column_name] - data[column_name].min()) / (data[column_name].max() - data[column_name].min())\n",
    "            data[column_name] = MinMaxScaler().fit_transform(data[[column_name]])\n",
    "            data.drop([column_name],axis=1,inplace=True)\n",
    "        else:\n",
    "            pass\n",
    "    return data\n",
    "\n",
    "df = codage_categorie(df)\n"
   ]
  },
  {
   "cell_type": "code",
   "execution_count": 95,
   "metadata": {},
   "outputs": [
    {
     "data": {
      "text/plain": [
       "665"
      ]
     },
     "execution_count": 95,
     "metadata": {},
     "output_type": "execute_result"
    }
   ],
   "source": [
    "# df.property_type_Apartment.dtypes\n",
    "df.columns.size"
   ]
  },
  {
   "cell_type": "code",
   "execution_count": 96,
   "metadata": {},
   "outputs": [],
   "source": [
    "# plt.figure(figsize = (40,40))\n",
    "# sns.heatmap(df.corr(), annot=True, fmt=\".2f\", cmap=\"YlGnBu\")\n",
    "# plt.show()\n",
    "# print(df.Apartment)"
   ]
  },
  {
   "cell_type": "markdown",
   "metadata": {},
   "source": [
    "# 9 - target / features"
   ]
  },
  {
   "cell_type": "code",
   "execution_count": 97,
   "metadata": {},
   "outputs": [],
   "source": [
    "from sklearn.model_selection import train_test_split"
   ]
  },
  {
   "cell_type": "code",
   "execution_count": 98,
   "metadata": {},
   "outputs": [],
   "source": [
    "y = df['log_price']\n",
    "x = df.drop('log_price', axis=1)"
   ]
  },
  {
   "cell_type": "markdown",
   "metadata": {},
   "source": [
    "# 9 - Feature Selection"
   ]
  },
  {
   "cell_type": "markdown",
   "metadata": {},
   "source": [
    "## Seuil d'écart (Variance Threshold)"
   ]
  },
  {
   "cell_type": "code",
   "execution_count": 99,
   "metadata": {},
   "outputs": [],
   "source": [
    "from sklearn.feature_selection import VarianceThreshold"
   ]
  },
  {
   "cell_type": "code",
   "execution_count": 100,
   "metadata": {},
   "outputs": [
    {
     "data": {
      "text/html": [
       "<style>#sk-container-id-4 {color: black;}#sk-container-id-4 pre{padding: 0;}#sk-container-id-4 div.sk-toggleable {background-color: white;}#sk-container-id-4 label.sk-toggleable__label {cursor: pointer;display: block;width: 100%;margin-bottom: 0;padding: 0.3em;box-sizing: border-box;text-align: center;}#sk-container-id-4 label.sk-toggleable__label-arrow:before {content: \"▸\";float: left;margin-right: 0.25em;color: #696969;}#sk-container-id-4 label.sk-toggleable__label-arrow:hover:before {color: black;}#sk-container-id-4 div.sk-estimator:hover label.sk-toggleable__label-arrow:before {color: black;}#sk-container-id-4 div.sk-toggleable__content {max-height: 0;max-width: 0;overflow: hidden;text-align: left;background-color: #f0f8ff;}#sk-container-id-4 div.sk-toggleable__content pre {margin: 0.2em;color: black;border-radius: 0.25em;background-color: #f0f8ff;}#sk-container-id-4 input.sk-toggleable__control:checked~div.sk-toggleable__content {max-height: 200px;max-width: 100%;overflow: auto;}#sk-container-id-4 input.sk-toggleable__control:checked~label.sk-toggleable__label-arrow:before {content: \"▾\";}#sk-container-id-4 div.sk-estimator input.sk-toggleable__control:checked~label.sk-toggleable__label {background-color: #d4ebff;}#sk-container-id-4 div.sk-label input.sk-toggleable__control:checked~label.sk-toggleable__label {background-color: #d4ebff;}#sk-container-id-4 input.sk-hidden--visually {border: 0;clip: rect(1px 1px 1px 1px);clip: rect(1px, 1px, 1px, 1px);height: 1px;margin: -1px;overflow: hidden;padding: 0;position: absolute;width: 1px;}#sk-container-id-4 div.sk-estimator {font-family: monospace;background-color: #f0f8ff;border: 1px dotted black;border-radius: 0.25em;box-sizing: border-box;margin-bottom: 0.5em;}#sk-container-id-4 div.sk-estimator:hover {background-color: #d4ebff;}#sk-container-id-4 div.sk-parallel-item::after {content: \"\";width: 100%;border-bottom: 1px solid gray;flex-grow: 1;}#sk-container-id-4 div.sk-label:hover label.sk-toggleable__label {background-color: #d4ebff;}#sk-container-id-4 div.sk-serial::before {content: \"\";position: absolute;border-left: 1px solid gray;box-sizing: border-box;top: 0;bottom: 0;left: 50%;z-index: 0;}#sk-container-id-4 div.sk-serial {display: flex;flex-direction: column;align-items: center;background-color: white;padding-right: 0.2em;padding-left: 0.2em;position: relative;}#sk-container-id-4 div.sk-item {position: relative;z-index: 1;}#sk-container-id-4 div.sk-parallel {display: flex;align-items: stretch;justify-content: center;background-color: white;position: relative;}#sk-container-id-4 div.sk-item::before, #sk-container-id-4 div.sk-parallel-item::before {content: \"\";position: absolute;border-left: 1px solid gray;box-sizing: border-box;top: 0;bottom: 0;left: 50%;z-index: -1;}#sk-container-id-4 div.sk-parallel-item {display: flex;flex-direction: column;z-index: 1;position: relative;background-color: white;}#sk-container-id-4 div.sk-parallel-item:first-child::after {align-self: flex-end;width: 50%;}#sk-container-id-4 div.sk-parallel-item:last-child::after {align-self: flex-start;width: 50%;}#sk-container-id-4 div.sk-parallel-item:only-child::after {width: 0;}#sk-container-id-4 div.sk-dashed-wrapped {border: 1px dashed gray;margin: 0 0.4em 0.5em 0.4em;box-sizing: border-box;padding-bottom: 0.4em;background-color: white;}#sk-container-id-4 div.sk-label label {font-family: monospace;font-weight: bold;display: inline-block;line-height: 1.2em;}#sk-container-id-4 div.sk-label-container {text-align: center;}#sk-container-id-4 div.sk-container {/* jupyter's `normalize.less` sets `[hidden] { display: none; }` but bootstrap.min.css set `[hidden] { display: none !important; }` so we also need the `!important` here to be able to override the default hidden behavior on the sphinx rendered scikit-learn.org. See: https://github.com/scikit-learn/scikit-learn/issues/21755 */display: inline-block !important;position: relative;}#sk-container-id-4 div.sk-text-repr-fallback {display: none;}</style><div id=\"sk-container-id-4\" class=\"sk-top-container\"><div class=\"sk-text-repr-fallback\"><pre>VarianceThreshold(threshold=0.2)</pre><b>In a Jupyter environment, please rerun this cell to show the HTML representation or trust the notebook. <br />On GitHub, the HTML representation is unable to render, please try loading this page with nbviewer.org.</b></div><div class=\"sk-container\" hidden><div class=\"sk-item\"><div class=\"sk-estimator sk-toggleable\"><input class=\"sk-toggleable__control sk-hidden--visually\" id=\"sk-estimator-id-4\" type=\"checkbox\" checked><label for=\"sk-estimator-id-4\" class=\"sk-toggleable__label sk-toggleable__label-arrow\">VarianceThreshold</label><div class=\"sk-toggleable__content\"><pre>VarianceThreshold(threshold=0.2)</pre></div></div></div></div></div>"
      ],
      "text/plain": [
       "VarianceThreshold(threshold=0.2)"
      ]
     },
     "execution_count": 100,
     "metadata": {},
     "output_type": "execute_result"
    }
   ],
   "source": [
    "selector = VarianceThreshold(threshold=0.2)\n",
    "selector.fit(x)"
   ]
  },
  {
   "cell_type": "code",
   "execution_count": 101,
   "metadata": {},
   "outputs": [
    {
     "data": {
      "text/plain": [
       "Index(['id', 'accommodates', 'bathrooms', 'host_response_rate',\n",
       "       'number_of_reviews', 'review_scores_rating', 'bedrooms', 'beds',\n",
       "       'property_type_Apartment', 'room_type_Entire home/apt',\n",
       "       'room_type_Private room', 'cancellation_policy_moderate',\n",
       "       'cancellation_policy_strict', 'city_LA', 'city_NYC'],\n",
       "      dtype='object')"
      ]
     },
     "execution_count": 101,
     "metadata": {},
     "output_type": "execute_result"
    }
   ],
   "source": [
    "np.array(x.columns)[selector.get_support()]\n",
    "data = df[np.array(x.columns)[selector.get_support()]]\n",
    "data.columns"
   ]
  },
  {
   "cell_type": "code",
   "execution_count": 102,
   "metadata": {},
   "outputs": [
    {
     "name": "stdout",
     "output_type": "stream",
     "text": [
      "15\n"
     ]
    }
   ],
   "source": [
    "print(np.array(x.columns)[selector.get_support()].size)\n",
    "# chi2 , select from model"
   ]
  },
  {
   "cell_type": "markdown",
   "metadata": {},
   "source": [
    "## SelectKBest"
   ]
  },
  {
   "cell_type": "code",
   "execution_count": 103,
   "metadata": {},
   "outputs": [],
   "source": [
    "from sklearn.feature_selection import SelectKBest, chi2, f_classif"
   ]
  },
  {
   "cell_type": "code",
   "execution_count": 104,
   "metadata": {},
   "outputs": [],
   "source": [
    "# chi2(x,y)"
   ]
  },
  {
   "cell_type": "code",
   "execution_count": 105,
   "metadata": {},
   "outputs": [
    {
     "data": {
      "text/plain": [
       "array(['accommodates', 'bathrooms', 'bedrooms', 'beds',\n",
       "       'property_type_Hostel', 'room_type_Entire home/apt',\n",
       "       'room_type_Private room', 'room_type_Shared room',\n",
       "       'cancellation_policy_super_strict_60',\n",
       "       'neighbourhood_Chevy Chase, MD', 'neighbourhood_Gateway',\n",
       "       'neighbourhood_Malibu', 'neighbourhood_Noho',\n",
       "       'neighbourhood_Observatory Circle', 'neighbourhood_Queens',\n",
       "       'neighbourhood_Shepherd Park', 'neighbourhood_South Chicago'],\n",
       "      dtype=object)"
      ]
     },
     "execution_count": 105,
     "metadata": {},
     "output_type": "execute_result"
    }
   ],
   "source": [
    "selector2 = SelectKBest(f_classif, k=17)\n",
    "selector2.fit(x, y)\n",
    "np.array(x.columns)[selector2.get_support()]"
   ]
  },
  {
   "cell_type": "markdown",
   "metadata": {},
   "source": [
    "# 9 - training the model(Ridge)"
   ]
  },
  {
   "cell_type": "code",
   "execution_count": 106,
   "metadata": {},
   "outputs": [],
   "source": [
    "from sklearn.linear_model import Ridge\n",
    "ridge = Ridge(alpha = 0.2)\n",
    "x= data\n",
    "x_train, x_test, y_train, y_test = train_test_split(x, y, test_size=0.4, random_state=5)"
   ]
  },
  {
   "cell_type": "code",
   "execution_count": 107,
   "metadata": {},
   "outputs": [
    {
     "data": {
      "text/html": [
       "<style>#sk-container-id-5 {color: black;}#sk-container-id-5 pre{padding: 0;}#sk-container-id-5 div.sk-toggleable {background-color: white;}#sk-container-id-5 label.sk-toggleable__label {cursor: pointer;display: block;width: 100%;margin-bottom: 0;padding: 0.3em;box-sizing: border-box;text-align: center;}#sk-container-id-5 label.sk-toggleable__label-arrow:before {content: \"▸\";float: left;margin-right: 0.25em;color: #696969;}#sk-container-id-5 label.sk-toggleable__label-arrow:hover:before {color: black;}#sk-container-id-5 div.sk-estimator:hover label.sk-toggleable__label-arrow:before {color: black;}#sk-container-id-5 div.sk-toggleable__content {max-height: 0;max-width: 0;overflow: hidden;text-align: left;background-color: #f0f8ff;}#sk-container-id-5 div.sk-toggleable__content pre {margin: 0.2em;color: black;border-radius: 0.25em;background-color: #f0f8ff;}#sk-container-id-5 input.sk-toggleable__control:checked~div.sk-toggleable__content {max-height: 200px;max-width: 100%;overflow: auto;}#sk-container-id-5 input.sk-toggleable__control:checked~label.sk-toggleable__label-arrow:before {content: \"▾\";}#sk-container-id-5 div.sk-estimator input.sk-toggleable__control:checked~label.sk-toggleable__label {background-color: #d4ebff;}#sk-container-id-5 div.sk-label input.sk-toggleable__control:checked~label.sk-toggleable__label {background-color: #d4ebff;}#sk-container-id-5 input.sk-hidden--visually {border: 0;clip: rect(1px 1px 1px 1px);clip: rect(1px, 1px, 1px, 1px);height: 1px;margin: -1px;overflow: hidden;padding: 0;position: absolute;width: 1px;}#sk-container-id-5 div.sk-estimator {font-family: monospace;background-color: #f0f8ff;border: 1px dotted black;border-radius: 0.25em;box-sizing: border-box;margin-bottom: 0.5em;}#sk-container-id-5 div.sk-estimator:hover {background-color: #d4ebff;}#sk-container-id-5 div.sk-parallel-item::after {content: \"\";width: 100%;border-bottom: 1px solid gray;flex-grow: 1;}#sk-container-id-5 div.sk-label:hover label.sk-toggleable__label {background-color: #d4ebff;}#sk-container-id-5 div.sk-serial::before {content: \"\";position: absolute;border-left: 1px solid gray;box-sizing: border-box;top: 0;bottom: 0;left: 50%;z-index: 0;}#sk-container-id-5 div.sk-serial {display: flex;flex-direction: column;align-items: center;background-color: white;padding-right: 0.2em;padding-left: 0.2em;position: relative;}#sk-container-id-5 div.sk-item {position: relative;z-index: 1;}#sk-container-id-5 div.sk-parallel {display: flex;align-items: stretch;justify-content: center;background-color: white;position: relative;}#sk-container-id-5 div.sk-item::before, #sk-container-id-5 div.sk-parallel-item::before {content: \"\";position: absolute;border-left: 1px solid gray;box-sizing: border-box;top: 0;bottom: 0;left: 50%;z-index: -1;}#sk-container-id-5 div.sk-parallel-item {display: flex;flex-direction: column;z-index: 1;position: relative;background-color: white;}#sk-container-id-5 div.sk-parallel-item:first-child::after {align-self: flex-end;width: 50%;}#sk-container-id-5 div.sk-parallel-item:last-child::after {align-self: flex-start;width: 50%;}#sk-container-id-5 div.sk-parallel-item:only-child::after {width: 0;}#sk-container-id-5 div.sk-dashed-wrapped {border: 1px dashed gray;margin: 0 0.4em 0.5em 0.4em;box-sizing: border-box;padding-bottom: 0.4em;background-color: white;}#sk-container-id-5 div.sk-label label {font-family: monospace;font-weight: bold;display: inline-block;line-height: 1.2em;}#sk-container-id-5 div.sk-label-container {text-align: center;}#sk-container-id-5 div.sk-container {/* jupyter's `normalize.less` sets `[hidden] { display: none; }` but bootstrap.min.css set `[hidden] { display: none !important; }` so we also need the `!important` here to be able to override the default hidden behavior on the sphinx rendered scikit-learn.org. See: https://github.com/scikit-learn/scikit-learn/issues/21755 */display: inline-block !important;position: relative;}#sk-container-id-5 div.sk-text-repr-fallback {display: none;}</style><div id=\"sk-container-id-5\" class=\"sk-top-container\"><div class=\"sk-text-repr-fallback\"><pre>Ridge(alpha=0.2)</pre><b>In a Jupyter environment, please rerun this cell to show the HTML representation or trust the notebook. <br />On GitHub, the HTML representation is unable to render, please try loading this page with nbviewer.org.</b></div><div class=\"sk-container\" hidden><div class=\"sk-item\"><div class=\"sk-estimator sk-toggleable\"><input class=\"sk-toggleable__control sk-hidden--visually\" id=\"sk-estimator-id-5\" type=\"checkbox\" checked><label for=\"sk-estimator-id-5\" class=\"sk-toggleable__label sk-toggleable__label-arrow\">Ridge</label><div class=\"sk-toggleable__content\"><pre>Ridge(alpha=0.2)</pre></div></div></div></div></div>"
      ],
      "text/plain": [
       "Ridge(alpha=0.2)"
      ]
     },
     "execution_count": 107,
     "metadata": {},
     "output_type": "execute_result"
    }
   ],
   "source": [
    "ridge.fit(x_train,y_train)"
   ]
  },
  {
   "cell_type": "code",
   "execution_count": 108,
   "metadata": {},
   "outputs": [],
   "source": [
    "y_pred = ridge.predict(x_test)"
   ]
  },
  {
   "cell_type": "code",
   "execution_count": 109,
   "metadata": {},
   "outputs": [
    {
     "data": {
      "text/plain": [
       "array([5.33028401, 5.21620415, 5.12092736, ..., 4.90078927, 4.75355939,\n",
       "       5.07303591])"
      ]
     },
     "execution_count": 109,
     "metadata": {},
     "output_type": "execute_result"
    }
   ],
   "source": [
    "y_pred"
   ]
  },
  {
   "cell_type": "code",
   "execution_count": 110,
   "metadata": {},
   "outputs": [
    {
     "name": "stdout",
     "output_type": "stream",
     "text": [
      "Slop: -0.00\n"
     ]
    }
   ],
   "source": [
    "print(\"Slop: %.2f\" % ridge.coef_[0])"
   ]
  },
  {
   "cell_type": "code",
   "execution_count": 111,
   "metadata": {},
   "outputs": [
    {
     "name": "stdout",
     "output_type": "stream",
     "text": [
      "Intercept: 2.96\n"
     ]
    }
   ],
   "source": [
    "print(\"Intercept: %.2f\" % ridge.intercept_)"
   ]
  },
  {
   "cell_type": "code",
   "execution_count": 112,
   "metadata": {},
   "outputs": [
    {
     "name": "stdout",
     "output_type": "stream",
     "text": [
      "Mean Absolute Error (MAE): 0.3355968588040601\n",
      "Mean Squared Error (MSE): 0.18726417874467657\n",
      "Root Mean Squared Error (RMSE): 0.43274031328809265\n",
      "R-squared (R²) Score: 0.5777164892032638\n"
     ]
    }
   ],
   "source": [
    "from sklearn.metrics import mean_absolute_error, mean_squared_error, r2_score\n",
    "\n",
    "# Assuming y_true and y_pred are your true labels and predicted labels, respectively, for a regression problem\n",
    "mae = mean_absolute_error(y_test, y_pred)\n",
    "mse = mean_squared_error(y_test, y_pred)\n",
    "rmse = mean_squared_error(y_test, y_pred, squared=False)\n",
    "r2 = r2_score(y_test, y_pred)\n",
    "\n",
    "print(\"Mean Absolute Error (MAE):\", mae)\n",
    "print(\"Mean Squared Error (MSE):\", mse)\n",
    "print(\"Root Mean Squared Error (RMSE):\", rmse)\n",
    "print(\"R-squared (R²) Score:\", r2)"
   ]
  },
  {
   "cell_type": "markdown",
   "metadata": {},
   "source": [
    "# 9 - training the model(linear model)"
   ]
  },
  {
   "cell_type": "code",
   "execution_count": 113,
   "metadata": {},
   "outputs": [
    {
     "data": {
      "text/html": [
       "<style>#sk-container-id-6 {color: black;}#sk-container-id-6 pre{padding: 0;}#sk-container-id-6 div.sk-toggleable {background-color: white;}#sk-container-id-6 label.sk-toggleable__label {cursor: pointer;display: block;width: 100%;margin-bottom: 0;padding: 0.3em;box-sizing: border-box;text-align: center;}#sk-container-id-6 label.sk-toggleable__label-arrow:before {content: \"▸\";float: left;margin-right: 0.25em;color: #696969;}#sk-container-id-6 label.sk-toggleable__label-arrow:hover:before {color: black;}#sk-container-id-6 div.sk-estimator:hover label.sk-toggleable__label-arrow:before {color: black;}#sk-container-id-6 div.sk-toggleable__content {max-height: 0;max-width: 0;overflow: hidden;text-align: left;background-color: #f0f8ff;}#sk-container-id-6 div.sk-toggleable__content pre {margin: 0.2em;color: black;border-radius: 0.25em;background-color: #f0f8ff;}#sk-container-id-6 input.sk-toggleable__control:checked~div.sk-toggleable__content {max-height: 200px;max-width: 100%;overflow: auto;}#sk-container-id-6 input.sk-toggleable__control:checked~label.sk-toggleable__label-arrow:before {content: \"▾\";}#sk-container-id-6 div.sk-estimator input.sk-toggleable__control:checked~label.sk-toggleable__label {background-color: #d4ebff;}#sk-container-id-6 div.sk-label input.sk-toggleable__control:checked~label.sk-toggleable__label {background-color: #d4ebff;}#sk-container-id-6 input.sk-hidden--visually {border: 0;clip: rect(1px 1px 1px 1px);clip: rect(1px, 1px, 1px, 1px);height: 1px;margin: -1px;overflow: hidden;padding: 0;position: absolute;width: 1px;}#sk-container-id-6 div.sk-estimator {font-family: monospace;background-color: #f0f8ff;border: 1px dotted black;border-radius: 0.25em;box-sizing: border-box;margin-bottom: 0.5em;}#sk-container-id-6 div.sk-estimator:hover {background-color: #d4ebff;}#sk-container-id-6 div.sk-parallel-item::after {content: \"\";width: 100%;border-bottom: 1px solid gray;flex-grow: 1;}#sk-container-id-6 div.sk-label:hover label.sk-toggleable__label {background-color: #d4ebff;}#sk-container-id-6 div.sk-serial::before {content: \"\";position: absolute;border-left: 1px solid gray;box-sizing: border-box;top: 0;bottom: 0;left: 50%;z-index: 0;}#sk-container-id-6 div.sk-serial {display: flex;flex-direction: column;align-items: center;background-color: white;padding-right: 0.2em;padding-left: 0.2em;position: relative;}#sk-container-id-6 div.sk-item {position: relative;z-index: 1;}#sk-container-id-6 div.sk-parallel {display: flex;align-items: stretch;justify-content: center;background-color: white;position: relative;}#sk-container-id-6 div.sk-item::before, #sk-container-id-6 div.sk-parallel-item::before {content: \"\";position: absolute;border-left: 1px solid gray;box-sizing: border-box;top: 0;bottom: 0;left: 50%;z-index: -1;}#sk-container-id-6 div.sk-parallel-item {display: flex;flex-direction: column;z-index: 1;position: relative;background-color: white;}#sk-container-id-6 div.sk-parallel-item:first-child::after {align-self: flex-end;width: 50%;}#sk-container-id-6 div.sk-parallel-item:last-child::after {align-self: flex-start;width: 50%;}#sk-container-id-6 div.sk-parallel-item:only-child::after {width: 0;}#sk-container-id-6 div.sk-dashed-wrapped {border: 1px dashed gray;margin: 0 0.4em 0.5em 0.4em;box-sizing: border-box;padding-bottom: 0.4em;background-color: white;}#sk-container-id-6 div.sk-label label {font-family: monospace;font-weight: bold;display: inline-block;line-height: 1.2em;}#sk-container-id-6 div.sk-label-container {text-align: center;}#sk-container-id-6 div.sk-container {/* jupyter's `normalize.less` sets `[hidden] { display: none; }` but bootstrap.min.css set `[hidden] { display: none !important; }` so we also need the `!important` here to be able to override the default hidden behavior on the sphinx rendered scikit-learn.org. See: https://github.com/scikit-learn/scikit-learn/issues/21755 */display: inline-block !important;position: relative;}#sk-container-id-6 div.sk-text-repr-fallback {display: none;}</style><div id=\"sk-container-id-6\" class=\"sk-top-container\"><div class=\"sk-text-repr-fallback\"><pre>LinearRegression()</pre><b>In a Jupyter environment, please rerun this cell to show the HTML representation or trust the notebook. <br />On GitHub, the HTML representation is unable to render, please try loading this page with nbviewer.org.</b></div><div class=\"sk-container\" hidden><div class=\"sk-item\"><div class=\"sk-estimator sk-toggleable\"><input class=\"sk-toggleable__control sk-hidden--visually\" id=\"sk-estimator-id-6\" type=\"checkbox\" checked><label for=\"sk-estimator-id-6\" class=\"sk-toggleable__label sk-toggleable__label-arrow\">LinearRegression</label><div class=\"sk-toggleable__content\"><pre>LinearRegression()</pre></div></div></div></div></div>"
      ],
      "text/plain": [
       "LinearRegression()"
      ]
     },
     "execution_count": 113,
     "metadata": {},
     "output_type": "execute_result"
    }
   ],
   "source": [
    "from sklearn.linear_model import LinearRegression\n",
    "\n",
    "reg = LinearRegression()\n",
    "\n",
    "reg.fit(x_train,y_train)"
   ]
  },
  {
   "cell_type": "code",
   "execution_count": 114,
   "metadata": {},
   "outputs": [],
   "source": [
    "reg.score(x_test,y_test)\n",
    "y_pred2 = reg.predict(x_test)"
   ]
  },
  {
   "cell_type": "code",
   "execution_count": 115,
   "metadata": {},
   "outputs": [
    {
     "name": "stdout",
     "output_type": "stream",
     "text": [
      "Mean Absolute Error (MAE): 0.3355971553292054\n",
      "Mean Squared Error (MSE): 0.18726464957882347\n",
      "Root Mean Squared Error (RMSE): 0.43274085730240847\n",
      "R-squared (R²) Score: 0.5777154274652534\n"
     ]
    }
   ],
   "source": [
    "from sklearn.metrics import mean_absolute_error, mean_squared_error, r2_score\n",
    "\n",
    "# Assuming y_true and y_pred are your true labels and predicted labels, respectively, for a regression problem\n",
    "mae = mean_absolute_error(y_test, y_pred2)\n",
    "mse = mean_squared_error(y_test, y_pred2)\n",
    "rmse = mean_squared_error(y_test, y_pred2, squared=False)\n",
    "r2 = r2_score(y_test, y_pred2)\n",
    "\n",
    "print(\"Mean Absolute Error (MAE):\", mae)\n",
    "print(\"Mean Squared Error (MSE):\", mse)\n",
    "print(\"Root Mean Squared Error (RMSE):\", rmse)\n",
    "print(\"R-squared (R²) Score:\", r2)"
   ]
  },
  {
   "cell_type": "markdown",
   "metadata": {},
   "source": [
    "# 9 - training the model(SVR)"
   ]
  },
  {
   "cell_type": "markdown",
   "metadata": {},
   "source": [
    "## Feature scaling\n"
   ]
  },
  {
   "cell_type": "code",
   "execution_count": 116,
   "metadata": {},
   "outputs": [
    {
     "data": {
      "text/plain": [
       "(34432, 15)"
      ]
     },
     "execution_count": 116,
     "metadata": {},
     "output_type": "execute_result"
    }
   ],
   "source": [
    "from sklearn.preprocessing import StandardScaler\n",
    "\n",
    "scaler = StandardScaler().fit(x_train)\n",
    "X_train_scaled = scaler.transform(x_train)\n",
    "X_test_scaled = scaler.transform(x_test)\n",
    "x_train.shape"
   ]
  },
  {
   "cell_type": "code",
   "execution_count": 117,
   "metadata": {},
   "outputs": [],
   "source": [
    "# from sklearn.svm import SVR\n",
    "\n",
    "# svr_lin = SVR(kernel = 'linear')\n",
    "# # svr_rbf = SVR(kernel = 'rbf')\n",
    "# # svr_poly = SVR(kernel = 'poly')\n",
    "\n",
    "# svr_lin.fit(X_train_scaled, y_train)\n",
    "# # svr_rbf.fit(X_train_scaled, y_train)\n",
    "# # svr_poly.fit(X_train_scaled, y_train)"
   ]
  },
  {
   "cell_type": "code",
   "execution_count": 118,
   "metadata": {},
   "outputs": [],
   "source": [
    "# import numpy as np\n",
    "# from sklearn import metrics\n",
    "\n",
    "# #### Test dataset - metrics ####\n",
    "# y_test_pred = svr_lin.predict(X_test_scaled)\n",
    "# r2_score = round(metrics.r2_score(y_test, y_test_pred),2)\n",
    "# rmse = round(np.sqrt(metrics.mean_squared_error(y_test, y_test_pred)),2)\n",
    "# print(f'r2: {r2_score}')\n",
    "# print(f'rmse: {rmse}')"
   ]
  },
  {
   "cell_type": "markdown",
   "metadata": {
    "tags": []
   },
   "source": [
    "# 9 - training the model"
   ]
  },
  {
   "cell_type": "markdown",
   "metadata": {},
   "source": [
    "# 10 - Learning curve"
   ]
  },
  {
   "cell_type": "code",
   "execution_count": 119,
   "metadata": {
    "tags": []
   },
   "outputs": [],
   "source": [
    "from sklearn.model_selection import learning_curve"
   ]
  },
  {
   "cell_type": "code",
   "execution_count": 122,
   "metadata": {
    "tags": []
   },
   "outputs": [
    {
     "name": "stdout",
     "output_type": "stream",
     "text": [
      "[ 3012  4439  5867  7294  8721 10148 11575 13002 14429 15856 17283 18711\n",
      " 20138 21565 22992 24419 25846 27273 28700 30128]\n"
     ]
    },
    {
     "data": {
      "text/plain": [
       "<matplotlib.legend.Legend at 0x208108d8350>"
      ]
     },
     "execution_count": 122,
     "metadata": {},
     "output_type": "execute_result"
    },
    {
     "data": {
      "image/png": "[encoded data removed]",
      "text/plain": [
       "<Figure size 640x480 with 1 Axes>"
      ]
     },
     "metadata": {},
     "output_type": "display_data"
    }
   ],
   "source": [
    "N, train_score, val_score = learning_curve(reg, x_train, y_train,\n",
    "                                           train_sizes=np.linspace(0.1, 1.0, 20), cv=8)\n",
    "\n",
    "print(N)\n",
    "plt.plot(N, train_score.mean(axis=1), label='train')\n",
    "plt.plot(N, val_score.mean(axis=1), label='validation')\n",
    "plt.xlabel('train_sizes')\n",
    "plt.legend()"
   ]
  },
  {
   "cell_type": "code",
   "execution_count": 129,
   "metadata": {},
   "outputs": [
    {
     "ename": "SyntaxError",
     "evalue": "invalid syntax. Perhaps you forgot a comma? (2761777481.py, line 4)",
     "output_type": "error",
     "traceback": [
      "\u001b[1;36m  Cell \u001b[1;32mIn[129], line 4\u001b[1;36m\u001b[0m\n\u001b[1;33m    N, train_score, val_score = learning_curve(reg, x_train, y_train,scoring=rmse\u001b[0m\n\u001b[1;37m                                                                             ^\u001b[0m\n\u001b[1;31mSyntaxError\u001b[0m\u001b[1;31m:\u001b[0m invalid syntax. Perhaps you forgot a comma?\n"
     ]
    }
   ],
   "source": [
    "N, train_score, val_score = learning_curve(reg, x_train, y_train,\n",
    "                                           train_sizes=np.linspace(0.1, 1.0, 20), cv=8)\n",
    "\n",
    "print(N)\n",
    "plt.plot(N, train_score.mean(axis=1), label='train')\n",
    "plt.plot(N, val_score.mean(axis=1), label='validation')\n",
    "plt.xlabel('train_sizes')\n",
    "plt.legend()"
   ]
  },
  {
   "cell_type": "code",
   "execution_count": 123,
   "metadata": {},
   "outputs": [
    {
     "name": "stdout",
     "output_type": "stream",
     "text": [
      "[ 3012  4439  5867  7294  8721 10148 11575 13002 14429 15856 17283 18711\n",
      " 20138 21565 22992 24419 25846 27273 28700 30128]\n"
     ]
    },
    {
     "data": {
      "text/plain": [
       "<matplotlib.legend.Legend at 0x2080bde1710>"
      ]
     },
     "execution_count": 123,
     "metadata": {},
     "output_type": "execute_result"
    },
    {
     "data": {
      "image/png": "[encoded data removed]",
      "text/plain": [
       "<Figure size 640x480 with 1 Axes>"
      ]
     },
     "metadata": {},
     "output_type": "display_data"
    }
   ],
   "source": [
    "N, train_score, val_score = learning_curve(ridge, x_train, y_train,\n",
    "                                           train_sizes=np.linspace(0.1, 1.0, 20), cv=8)\n",
    "\n",
    "print(N)\n",
    "plt.plot(N, train_score.mean(axis=1), label='train')\n",
    "plt.plot(N, val_score.mean(axis=1), label='validation')\n",
    "plt.xlabel('train_sizes')\n",
    "plt.legend()"
   ]
  },
  {
   "cell_type": "code",
   "execution_count": 121,
   "metadata": {},
   "outputs": [
    {
     "name": "stdout",
     "output_type": "stream",
     "text": [
      "0        100.0\n",
      "1         93.0\n",
      "2         92.0\n",
      "4         40.0\n",
      "5        100.0\n",
      "         ...  \n",
      "74104    100.0\n",
      "74105     91.0\n",
      "74107     93.0\n",
      "74108     94.0\n",
      "74110     96.0\n",
      "Name: review_scores_rating, Length: 57388, dtype: float64\n"
     ]
    }
   ],
   "source": [
    "print(df.review_scores_rating)"
   ]
  }
 ],
 "metadata": {
  "kernelspec": {
   "display_name": "Python 3",
   "language": "python",
   "name": "python3"
  },
  "language_info": {
   "codemirror_mode": {
    "name": "ipython",
    "version": 3
   },
   "file_extension": ".py",
   "mimetype": "text/x-python",
   "name": "python",
   "nbconvert_exporter": "python",
   "pygments_lexer": "ipython3",
   "version": "3.11.5"
  }
 },
 "nbformat": 4,
 "nbformat_minor": 4
}
